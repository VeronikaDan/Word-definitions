{
 "cells": [
  {
   "cell_type": "code",
   "execution_count": 1,
   "metadata": {},
   "outputs": [
    {
     "name": "stderr",
     "output_type": "stream",
     "text": [
      "C:\\Users\\VDanilova\\AppData\\Local\\Continuum\\Anaconda3\\lib\\site-packages\\gensim\\utils.py:1197: UserWarning: detected Windows; aliasing chunkize to chunkize_serial\n",
      "  warnings.warn(\"detected Windows; aliasing chunkize to chunkize_serial\")\n"
     ]
    }
   ],
   "source": [
    "import json, os, re, operator, math, multidict\n",
    "import os\n",
    "from tqdm import tqdm_notebook as tqdm\n",
    "from pymorphy2 import MorphAnalyzer\n",
    "morph = MorphAnalyzer()\n",
    "from wordcloud import WordCloud\n",
    "import matplotlib.pyplot as plt\n",
    "import paths\n",
    "from collections import Counter\n",
    "from Stemmer import Stemmer\n",
    "stemmer = Stemmer('russian')\n",
    "from gensim.models.fasttext import FastText"
   ]
  },
  {
   "cell_type": "code",
   "execution_count": 2,
   "metadata": {
    "collapsed": true
   },
   "outputs": [],
   "source": [
    "#from nltk.corpus import stopwords\n",
    "\n",
    "#stops = stopwords.words('russian')\n",
    "#print(stops)"
   ]
  },
  {
   "cell_type": "code",
   "execution_count": 3,
   "metadata": {
    "collapsed": true
   },
   "outputs": [],
   "source": [
    "def write_in_json(path, data):\n",
    "    f = open(path, 'w', encoding = 'utf-8')\n",
    "    json.dump(data, f, indent = 2, ensure_ascii = False)\n",
    "    f.close()\n",
    "    \n",
    "\n",
    "def read_from_json(path):\n",
    "    with open(path, encoding = 'utf-8') as json_file:  \n",
    "        data = json.load(json_file)\n",
    "    return data"
   ]
  },
  {
   "cell_type": "markdown",
   "metadata": {},
   "source": [
    "### Считываем весь корпус и считаем частотности слов"
   ]
  },
  {
   "cell_type": "code",
   "execution_count": 4,
   "metadata": {
    "collapsed": true
   },
   "outputs": [],
   "source": [
    "def load_texts():\n",
    "    dirs = os.walk('C:\\\\Users\\\\VDanilova\\\\HSE\\\\ruscorpora')\n",
    "    texts = []\n",
    "    for dirr in dirs:    \n",
    "        path = dirr[0] + '/'\n",
    "        files = dirr[2]\n",
    "        for file in tqdm(files):\n",
    "            text = read_from_json(path + file)\n",
    "            for t in text:\n",
    "                for sent in t:\n",
    "                    texts.append(sent)\n",
    "    return texts"
   ]
  },
  {
   "cell_type": "code",
   "execution_count": 5,
   "metadata": {
    "collapsed": true
   },
   "outputs": [],
   "source": [
    "def count_words(texts):\n",
    "    ct = Counter()\n",
    "    for word in texts:\n",
    "        ct[word] += 1  \n",
    "    return ct         "
   ]
  },
  {
   "cell_type": "code",
   "execution_count": 6,
   "metadata": {
    "collapsed": true
   },
   "outputs": [],
   "source": [
    "#texts = load_texts()"
   ]
  },
  {
   "cell_type": "code",
   "execution_count": 7,
   "metadata": {},
   "outputs": [],
   "source": [
    "#ct = count_words(texts)\n",
    "#print (ct.most_common(100)) "
   ]
  },
  {
   "cell_type": "code",
   "execution_count": 8,
   "metadata": {
    "collapsed": true
   },
   "outputs": [],
   "source": [
    "def word_freq_plot(ct):\n",
    "    freq = {}\n",
    "    for word in ct.keys():\n",
    "        number = ct[word]\n",
    "        if number//50 not in freq.keys():\n",
    "            freq[number//50] = []\n",
    "        freq[number//50].append(word)    \n",
    "    \n",
    "    x = list(freq.keys())\n",
    "    x.sort()\n",
    "    y = []\n",
    "    x1 = []\n",
    "    for fr in x:\n",
    "        if (fr < 1000):\n",
    "            x1.append(fr)\n",
    "            y.append(len(freq[fr]))\n",
    "    print(max(x1))\n",
    "    print(max(y))\n",
    "    dpi = 80\n",
    "    fig = plt.figure(dpi = dpi, figsize = (512*2 / dpi, 384*2 / dpi) )\n",
    "\n",
    "    plt.plot(x1,y, color = 'blue')\n",
    "\n",
    "    plt.title('Word frequency')\n",
    "    plt.ylabel('Number of words')\n",
    "    plt.xlabel('Number of mentions // 50') \n",
    "    \n",
    "    plt.show()\n",
    "    fig.savefig('word_freq.png')\n",
    "    return freq"
   ]
  },
  {
   "cell_type": "code",
   "execution_count": 139,
   "metadata": {},
   "outputs": [
    {
     "name": "stdout",
     "output_type": "stream",
     "text": [
      "974\n",
      "695199\n"
     ]
    },
    {
     "data": {
      "image/png": "[encoded data removed]",
      "text/plain": [
       "<matplotlib.figure.Figure at 0x1458de7f0>"
      ]
     },
     "metadata": {},
     "output_type": "display_data"
    }
   ],
   "source": [
    "#freq = word_freq_plot(ct)"
   ]
  },
  {
   "cell_type": "code",
   "execution_count": 9,
   "metadata": {},
   "outputs": [],
   "source": [
    "#x = list(freq.keys())\n",
    "#x.sort()\n",
    "#print(len(x))"
   ]
  },
  {
   "cell_type": "markdown",
   "metadata": {},
   "source": [
    "#### Выписываем слова со средней частотностью"
   ]
  },
  {
   "cell_type": "code",
   "execution_count": 6,
   "metadata": {
    "collapsed": true
   },
   "outputs": [],
   "source": [
    "def write_in_txt(name, data):\n",
    "    with open(name+'.txt', 'w', encoding='utf-8') as f:\n",
    "        for line in data:\n",
    "            l = \"\"\n",
    "            if type(line) == list:\n",
    "                for word in line:\n",
    "                    l += word\n",
    "                    l += \", \"\n",
    "            else: l = line\n",
    "            f.write(l+\"\\n\")"
   ]
  },
  {
   "cell_type": "code",
   "execution_count": 11,
   "metadata": {
    "collapsed": true
   },
   "outputs": [],
   "source": [
    "#words = []\n",
    "#for fr in x[250:450]:\n",
    "#    words.append(freq[fr])\n",
    "#write_in_txt(\"words\", words)"
   ]
  },
  {
   "cell_type": "code",
   "execution_count": 146,
   "metadata": {},
   "outputs": [
    {
     "data": {
      "text/plain": [
       "'12500-24600'"
      ]
     },
     "execution_count": 146,
     "metadata": {},
     "output_type": "execute_result"
    }
   ],
   "source": [
    "#str(x[250]*50)+\"-\"+str(x[450]*50)"
   ]
  },
  {
   "cell_type": "markdown",
   "metadata": {},
   "source": [
    "### Считываем выбранные для тестирования слова и их контексты"
   ]
  },
  {
   "cell_type": "code",
   "execution_count": 7,
   "metadata": {
    "collapsed": true
   },
   "outputs": [],
   "source": [
    "def read_words(file):\n",
    "    res = []\n",
    "    with open(file, 'r', encoding='utf-8') as f:\n",
    "        lines = f.readlines()\n",
    "    for line in lines:\n",
    "        words = line.strip('\\n').split(' ')\n",
    "        for w in words:\n",
    "            res.append(w)\n",
    "    return res"
   ]
  },
  {
   "cell_type": "code",
   "execution_count": 8,
   "metadata": {
    "collapsed": true
   },
   "outputs": [],
   "source": [
    "test_words = read_words('data/sem_groups.txt')"
   ]
  },
  {
   "cell_type": "code",
   "execution_count": 9,
   "metadata": {},
   "outputs": [],
   "source": [
    "def load_contexts(words):\n",
    "    dirs = os.walk(paths._ruscorpora_)\n",
    "    texts = {}\n",
    "    for word in words:\n",
    "        texts[word] = []\n",
    "    for dirr in dirs:    \n",
    "        path = dirr[0] + '/'\n",
    "        files = dirr[2]\n",
    "        for file in tqdm(files):\n",
    "            text = read_from_json(path + file)\n",
    "            for sent in text:\n",
    "                for w in words:\n",
    "                    if (w in sent) or (w.replace(\"е\", \"ё\") in sent):\n",
    "                        for word in sent:\n",
    "                            texts[w].append(word)\n",
    "    return texts"
   ]
  },
  {
   "cell_type": "code",
   "execution_count": 10,
   "metadata": {},
   "outputs": [
    {
     "name": "stderr",
     "output_type": "stream",
     "text": [
      "Widget Javascript not detected.  It may not be installed or enabled properly.\n"
     ]
    },
    {
     "data": {
      "application/vnd.jupyter.widget-view+json": {
       "model_id": "a416ffb22b704b0cbf4ecb7040455c42"
      }
     },
     "metadata": {},
     "output_type": "display_data"
    },
    {
     "name": "stdout",
     "output_type": "stream",
     "text": [
      "\n"
     ]
    },
    {
     "name": "stderr",
     "output_type": "stream",
     "text": [
      "Widget Javascript not detected.  It may not be installed or enabled properly.\n"
     ]
    },
    {
     "data": {
      "application/vnd.jupyter.widget-view+json": {
       "model_id": "70e60bfd67fb42c09894c49b74d6ceb6"
      }
     },
     "metadata": {},
     "output_type": "display_data"
    },
    {
     "name": "stdout",
     "output_type": "stream",
     "text": [
      "\n"
     ]
    },
    {
     "name": "stderr",
     "output_type": "stream",
     "text": [
      "Widget Javascript not detected.  It may not be installed or enabled properly.\n"
     ]
    },
    {
     "data": {
      "application/vnd.jupyter.widget-view+json": {
       "model_id": "75fecfdbc77a486b9eb6fb733eb53bc8"
      }
     },
     "metadata": {},
     "output_type": "display_data"
    },
    {
     "name": "stdout",
     "output_type": "stream",
     "text": [
      "\n"
     ]
    },
    {
     "name": "stderr",
     "output_type": "stream",
     "text": [
      "Widget Javascript not detected.  It may not be installed or enabled properly.\n"
     ]
    },
    {
     "data": {
      "application/vnd.jupyter.widget-view+json": {
       "model_id": "2f92e3e724064af5a8a6a538c928b5c3"
      }
     },
     "metadata": {},
     "output_type": "display_data"
    },
    {
     "name": "stdout",
     "output_type": "stream",
     "text": [
      "\n"
     ]
    }
   ],
   "source": [
    "contexts = load_contexts(test_words)"
   ]
  },
  {
   "cell_type": "code",
   "execution_count": 34,
   "metadata": {},
   "outputs": [
    {
     "name": "stdout",
     "output_type": "stream",
     "text": [
      "строительство - 714525\n",
      "двор - 763115\n",
      "завод - 700710\n",
      "автомобиль - 710064\n",
      "самолет - 643014\n",
      "стена - 890301\n",
      "улица - 1474634\n",
      "дорога - 1439666\n",
      "площадь - 785881\n",
      "окно - 1100464\n",
      "квартира - 1290695\n",
      "ученый - 821234\n",
      "специалист - 985512\n",
      "исследование - 1078274\n",
      "институт - 1126771\n",
      "наука - 1129321\n",
      "школа - 1328283\n",
      "знание - 715813\n",
      "технология - 725518\n",
      "факт - 985552\n",
      "фирма - 824819\n",
      "руководитель - 937947\n",
      "начальник - 874389\n",
      "договор - 586295\n",
      "директор - 972428\n",
      "рабочий - 999005\n",
      "экономика - 847836\n",
      "министр - 787955\n",
      "регион - 814441\n",
      "гражданин - 927883\n",
      "политика - 1119327\n",
      "служба - 1073530\n",
      "партия - 1076830\n",
      "федерация - 779435\n",
      "общественный - 942162\n",
      "национальный - 945614\n",
      "мировой - 1092447\n",
      "экономический - 1104877\n",
      "социальный - 1116183\n",
      "федеральный - 883047\n",
      "музыка - 742581\n",
      "писатель - 773532\n",
      "сцена - 821440\n",
      "спектакль - 679510\n",
      "картина - 949862\n",
      "искусство - 963705\n",
      "фильм - 855345\n",
      "культура - 1176744\n",
      "автор - 1453239\n",
      "театр - 1079531\n"
     ]
    }
   ],
   "source": [
    "for word in contexts.keys():\n",
    "    print(word + \" - \" + str(len(contexts[word])))"
   ]
  },
  {
   "cell_type": "markdown",
   "metadata": {},
   "source": [
    "### Стопслова"
   ]
  },
  {
   "cell_type": "code",
   "execution_count": 11,
   "metadata": {
    "collapsed": true
   },
   "outputs": [],
   "source": [
    "STOPS = read_words(\"data/stopwords.txt\")"
   ]
  },
  {
   "cell_type": "markdown",
   "metadata": {},
   "source": [
    "### Создаем облака слов"
   ]
  },
  {
   "cell_type": "code",
   "execution_count": 12,
   "metadata": {
    "collapsed": true
   },
   "outputs": [],
   "source": [
    "def getFrequencyDictForText(sents, w):\n",
    "    fullTermsDict = multidict.MultiDict()\n",
    "    tmpDict = {}\n",
    "    mx = 0\n",
    "\n",
    "    # making dict for counting frequencies\n",
    "    for word in sents:\n",
    "        if word not in STOPS and word != w and not have_same_root(w,word) and not word.isdigit():                \n",
    "            val = tmpDict.get(word,0)\n",
    "            if val + 1 > mx:\n",
    "                mx = val + 1\n",
    "            tmpDict[word] = val+1\n",
    "    for key in tmpDict:\n",
    "        fullTermsDict.add(key,tmpDict[key] / (mx*2))\n",
    "    return fullTermsDict\n",
    "\n",
    "\n",
    "\n",
    "def Cloud(w, dic):    \n",
    "    wc = WordCloud(background_color=\"white\", max_words=100)\n",
    "    # generate word cloud\n",
    "    wc.generate_from_frequencies(dic)\n",
    "    fig = plt.figure()\n",
    "\n",
    "    # show\n",
    "    plt.imshow(wc, interpolation=\"bilinear\")\n",
    "    plt.axis(\"off\")\n",
    "    #plt.show()\n",
    "    fig.savefig('pic/'+w+'.png') \n",
    "    plt.close(fig)\n",
    "    return wc.words_"
   ]
  },
  {
   "cell_type": "code",
   "execution_count": 87,
   "metadata": {},
   "outputs": [],
   "source": [
    "for word in contexts.keys():\n",
    "    sents = contexts[word]\n",
    "    dic = getFrequencyDictForText(sents, word)\n",
    "    definition = Cloud(word, dic)\n",
    "    write_in_txt(\"cloud_words/\"+word, definition)"
   ]
  },
  {
   "cell_type": "markdown",
   "metadata": {},
   "source": [
    "### Считываем словарные определения слов"
   ]
  },
  {
   "cell_type": "code",
   "execution_count": 8,
   "metadata": {
    "collapsed": true
   },
   "outputs": [],
   "source": [
    "dict_definitions = {}\n",
    "with open(\"data/definitions.tsv\", 'r', encoding='utf-8') as f:\n",
    "    lines = f.readlines()\n",
    "for line in lines:\n",
    "    content = line.strip('\\n').split('\\t')\n",
    "    word = content[0]\n",
    "    if word not in dict_definitions.keys():\n",
    "        dict_definitions[word] = []\n",
    "    definitions = content[1].split(';')\n",
    "    for definition in definitions:\n",
    "        defin = []\n",
    "        definition = definition.lower()\n",
    "        words = re.findall(\"\\w\\w+\", definition)\n",
    "        for w in words:\n",
    "            normal = morph.parse(w)[0].normal_form\n",
    "            if normal not in defin and normal not in STOPS:\n",
    "                defin.append(normal)\n",
    "        dict_definitions[word].append(defin)"
   ]
  },
  {
   "cell_type": "code",
   "execution_count": 9,
   "metadata": {
    "collapsed": true
   },
   "outputs": [],
   "source": [
    "dirs = os.walk('cloud_words/tf')\n",
    "clouds = {}\n",
    "for dirr in dirs:    \n",
    "    path = dirr[0] + '/'\n",
    "    files = dirr[2]\n",
    "    for file in files:\n",
    "        text = read_words(path + file)\n",
    "        clouds[file[0:-4]] = text"
   ]
  },
  {
   "cell_type": "code",
   "execution_count": 12,
   "metadata": {
    "collapsed": true
   },
   "outputs": [],
   "source": [
    "dict_definitions_norm = {}\n",
    "precision = {}\n",
    "recall = {}\n",
    "for word in dict_definitions.keys():\n",
    "    good = 0\n",
    "    dict_definitions_norm[word] = []\n",
    "    for definition in dict_definitions[word]:\n",
    "        for w in definition:\n",
    "            if w not in dict_definitions_norm[word]:\n",
    "                dict_definitions_norm[word].append(w)\n",
    "                if w in clouds[word]:\n",
    "                    good += 1\n",
    "    precision[word] = good/len(clouds[word])\n",
    "    recall[word] = good/len(def_words)\n",
    "write_in_json(\"data/precision_pure\", precision)\n",
    "write_in_json(\"data/recall_pure\", recall)"
   ]
  },
  {
   "cell_type": "markdown",
   "metadata": {},
   "source": [
    "#### Учитываем однокоренные слова"
   ]
  },
  {
   "cell_type": "code",
   "execution_count": 13,
   "metadata": {
    "collapsed": true
   },
   "outputs": [],
   "source": [
    "def common_letters(word1, word2):\n",
    "    n = 0\n",
    "    i = 0\n",
    "    for letter in word1:\n",
    "        if i > len(word2) - 1:\n",
    "            return n\n",
    "        if word2[i] == letter:\n",
    "            n +=1\n",
    "        else:\n",
    "            return n\n",
    "        i += 1\n",
    "    return n"
   ]
  },
  {
   "cell_type": "code",
   "execution_count": 14,
   "metadata": {},
   "outputs": [
    {
     "data": {
      "text/plain": [
       "9"
      ]
     },
     "execution_count": 14,
     "metadata": {},
     "output_type": "execute_result"
    }
   ],
   "source": [
    "common_letters(\"автомобил\", \"автомобильн\")"
   ]
  },
  {
   "cell_type": "code",
   "execution_count": 15,
   "metadata": {},
   "outputs": [],
   "source": [
    "from Levenshtein import distance as lev"
   ]
  },
  {
   "cell_type": "code",
   "execution_count": 16,
   "metadata": {
    "collapsed": true
   },
   "outputs": [],
   "source": [
    "def have_same_root(word1, word2):\n",
    "    w1_stem = stemmer.stemWord(word1)\n",
    "    w2_stem = stemmer.stemWord(word2)\n",
    "    if w1_stem == w2_stem or lev(w1_stem, w2_stem) <= 2:\n",
    "        return True\n",
    "    comm = common_letters(w1_stem,w2_stem)\n",
    "    if comm < 4:\n",
    "        return False\n",
    "    if comm > 6:\n",
    "        return True\n",
    "    diff = abs(len(max(w1_stem,w2_stem))-comm)        \n",
    "    if diff > comm or diff > 2:\n",
    "        return False\n",
    "    return True"
   ]
  },
  {
   "cell_type": "code",
   "execution_count": 114,
   "metadata": {
    "collapsed": true
   },
   "outputs": [],
   "source": [
    "with open(\"data/test_same_root.tsv\",\"w\",encoding=\"utf-8\") as f:\n",
    "    f.write(\"word1\\tword2\\tmethod_result\\tmanual_result\\n\")\n",
    "    for word in dict_definitions.keys():\n",
    "        for w_dict in dict_definitions_norm[word]:\n",
    "            for w_cl in clouds[word]:\n",
    "                res = have_same_root(w_dict, w_cl)\n",
    "                comm = common_letters(w_dict,w_cl)\n",
    "                if comm > 2:\n",
    "                    manual = True\n",
    "                else:\n",
    "                    manual = False\n",
    "                f.write(\"{0}\\t{1}\\t{2}\\t{3}\\n\".format(w_dict,w_cl,res,manual))"
   ]
  },
  {
   "cell_type": "markdown",
   "metadata": {},
   "source": [
    "Нахождение однокоренных слов (не считая приставочного образования):\n",
    "\n",
    "Точность - 141/151 = 93%\n",
    "\n",
    "Полнота - 141/181 = 78%\n",
    "\n",
    "Всего пар - 41304"
   ]
  },
  {
   "cell_type": "code",
   "execution_count": 115,
   "metadata": {
    "collapsed": true
   },
   "outputs": [],
   "source": [
    "precision = {}\n",
    "recall = {}\n",
    "for word in dict_definitions.keys():\n",
    "    good = 0\n",
    "    for w_dict in dict_definitions_norm[word]:\n",
    "        if w_dict in clouds[word]:\n",
    "            good += 1\n",
    "        else:\n",
    "            for w_cl in clouds[word]:             \n",
    "                if have_same_root(w_dict, w_cl):                \n",
    "                    good += 1\n",
    "                    break\n",
    "    precision[word] = good/len(clouds[word])\n",
    "    recall[word] = good/len(def_words)\n",
    "write_in_json(\"data/precision_root\", precision)\n",
    "write_in_json(\"data/recall_root\", recall)"
   ]
  },
  {
   "cell_type": "markdown",
   "metadata": {},
   "source": [
    "### Находим синонимы с помощью fasttext"
   ]
  },
  {
   "cell_type": "code",
   "execution_count": 18,
   "metadata": {},
   "outputs": [],
   "source": [
    "ft_model = FastText.load('araneum_none_fasttextskipgram_300_5_2018.model')"
   ]
  },
  {
   "cell_type": "code",
   "execution_count": 37,
   "metadata": {},
   "outputs": [
    {
     "name": "stdout",
     "output_type": "stream",
     "text": [
      "строительство\n"
     ]
    },
    {
     "name": "stderr",
     "output_type": "stream",
     "text": [
      "C:\\Users\\VDanilova\\AppData\\Local\\Continuum\\Anaconda3\\lib\\site-packages\\ipykernel_launcher.py:4: DeprecationWarning: Call to deprecated `most_similar` (Method will be removed in 4.0.0, use self.wv.most_similar() instead).\n",
      "  after removing the cwd from sys.path.\n"
     ]
    },
    {
     "name": "stdout",
     "output_type": "stream",
     "text": [
      "двор\n",
      "завод\n",
      "автомобиль\n",
      "самолет\n",
      "стена\n",
      "улица\n",
      "дорога\n",
      "площадь\n",
      "окно\n",
      "квартира\n",
      "ученый\n",
      "специалист\n",
      "исследование\n",
      "институт\n",
      "наука\n",
      "школа\n",
      "знание\n",
      "технология\n",
      "факт\n",
      "фирма\n",
      "руководитель\n",
      "начальник\n",
      "договор\n",
      "директор\n",
      "рабочий\n",
      "экономика\n",
      "министр\n",
      "регион\n",
      "гражданин\n",
      "политика\n",
      "служба\n",
      "партия\n",
      "федерация\n",
      "общественный\n",
      "национальный\n",
      "мировой\n",
      "экономический\n",
      "социальный\n",
      "федеральный\n",
      "музыка\n",
      "писатель\n",
      "сцена\n",
      "спектакль\n",
      "картина\n",
      "искусство\n",
      "фильм\n",
      "культура\n",
      "автор\n",
      "театр\n"
     ]
    }
   ],
   "source": [
    "for word in test_words:\n",
    "    syn_dic = {}        \n",
    "    print(word)\n",
    "    for i in ft_model.wv.most_similar(positive=[word], topn=100):\n",
    "        neighbour = i[0]\n",
    "        if re.match(r'[а-я]+$',neighbour) and not have_same_root(neighbour,word) and neighbour not in syn_dic.keys():\n",
    "            syn_dic[neighbour] = i[1]\n",
    "    definition = Cloud(\"syns/\"+word, syn_dic)\n",
    "    write_in_txt(\"cloud_words/syns/\"+word, definition)"
   ]
  },
  {
   "cell_type": "markdown",
   "metadata": {},
   "source": [
    "### Tf - Idf"
   ]
  },
  {
   "cell_type": "code",
   "execution_count": 40,
   "metadata": {},
   "outputs": [],
   "source": [
    "def compute_tf(text):\n",
    "    tf_text = Counter(text)\n",
    "    for i in tf_text.keys():\n",
    "        tf_text[i] = tf_text[i]/float(len(text))\n",
    "    return tf_text\n",
    "\n",
    "\n",
    "def compute_idf(word, corpus):\n",
    "    n = 0.0\n",
    "    for i in corpus.keys():\n",
    "        if word in corpus[i]:\n",
    "            n += 1.0\n",
    "    return math.log10(len(corpus.keys())/n)\n",
    "\n",
    " \n",
    "\n",
    "def compute_tfidf(corpus):\n",
    "    tf_idf_dic = {}\n",
    "    for word in corpus.keys():\n",
    "        tf_idf_one_text = {}\n",
    "        print(word)\n",
    "        computed_tf = compute_tf(corpus[word]).most_common(5000)\n",
    "        print(\"tf computed!\")\n",
    "        for pair in tqdm(computed_tf):\n",
    "            tf_idf = pair[1] * compute_idf(pair[0], corpus)\n",
    "            if tf_idf > 0:\n",
    "                tf_idf_one_text[pair[0]] = tf_idf\n",
    "        print(\"tf-idf computed!\")\n",
    "        tf_idf_dic[word] = tf_idf_one_text\n",
    "    return tf_idf_dic"
   ]
  },
  {
   "cell_type": "code",
   "execution_count": 41,
   "metadata": {},
   "outputs": [
    {
     "name": "stdout",
     "output_type": "stream",
     "text": [
      "строительство\n",
      "tf computed!\n"
     ]
    },
    {
     "data": {
      "application/vnd.jupyter.widget-view+json": {
       "model_id": "47cd9840505543e18171c18485cca7c0"
      }
     },
     "metadata": {},
     "output_type": "display_data"
    },
    {
     "name": "stdout",
     "output_type": "stream",
     "text": [
      "\n",
      "tf-idf computed!\n",
      "двор\n",
      "tf computed!\n"
     ]
    },
    {
     "data": {
      "application/vnd.jupyter.widget-view+json": {
       "model_id": "102d4024847742528c6332a80c013888"
      }
     },
     "metadata": {},
     "output_type": "display_data"
    },
    {
     "name": "stdout",
     "output_type": "stream",
     "text": [
      "\n",
      "tf-idf computed!\n",
      "завод\n",
      "tf computed!\n"
     ]
    },
    {
     "data": {
      "application/vnd.jupyter.widget-view+json": {
       "model_id": "585fab0bb5094c2d8f5663b24454a819"
      }
     },
     "metadata": {},
     "output_type": "display_data"
    },
    {
     "name": "stdout",
     "output_type": "stream",
     "text": [
      "\n",
      "tf-idf computed!\n",
      "автомобиль\n",
      "tf computed!\n"
     ]
    },
    {
     "data": {
      "application/vnd.jupyter.widget-view+json": {
       "model_id": "aba1b0ed4dbc4074b0fdc82e69df1687"
      }
     },
     "metadata": {},
     "output_type": "display_data"
    },
    {
     "name": "stdout",
     "output_type": "stream",
     "text": [
      "\n",
      "tf-idf computed!\n",
      "самолет\n",
      "tf computed!\n"
     ]
    },
    {
     "data": {
      "application/vnd.jupyter.widget-view+json": {
       "model_id": "7f7b14789fb049c1889d076980ea19a9"
      }
     },
     "metadata": {},
     "output_type": "display_data"
    },
    {
     "name": "stdout",
     "output_type": "stream",
     "text": [
      "\n",
      "tf-idf computed!\n",
      "стена\n",
      "tf computed!\n"
     ]
    },
    {
     "data": {
      "application/vnd.jupyter.widget-view+json": {
       "model_id": "78eeff20a51643b9858c1023f2a9c0ea"
      }
     },
     "metadata": {},
     "output_type": "display_data"
    },
    {
     "name": "stdout",
     "output_type": "stream",
     "text": [
      "\n",
      "tf-idf computed!\n",
      "улица\n",
      "tf computed!\n"
     ]
    },
    {
     "data": {
      "application/vnd.jupyter.widget-view+json": {
       "model_id": "fb1dd6bdd20b40688e131888779bf413"
      }
     },
     "metadata": {},
     "output_type": "display_data"
    },
    {
     "name": "stdout",
     "output_type": "stream",
     "text": [
      "\n",
      "tf-idf computed!\n",
      "дорога\n",
      "tf computed!\n"
     ]
    },
    {
     "data": {
      "application/vnd.jupyter.widget-view+json": {
       "model_id": "eb6dfb8dcec74020812a01a003dfe33d"
      }
     },
     "metadata": {},
     "output_type": "display_data"
    },
    {
     "name": "stdout",
     "output_type": "stream",
     "text": [
      "\n",
      "tf-idf computed!\n",
      "площадь\n",
      "tf computed!\n"
     ]
    },
    {
     "data": {
      "application/vnd.jupyter.widget-view+json": {
       "model_id": "0b6340c3ce1c41949c0226ea3c18642e"
      }
     },
     "metadata": {},
     "output_type": "display_data"
    },
    {
     "name": "stdout",
     "output_type": "stream",
     "text": [
      "\n",
      "tf-idf computed!\n",
      "окно\n",
      "tf computed!\n"
     ]
    },
    {
     "data": {
      "application/vnd.jupyter.widget-view+json": {
       "model_id": "19ac658c146f457aae7c18ac4448735f"
      }
     },
     "metadata": {},
     "output_type": "display_data"
    },
    {
     "name": "stdout",
     "output_type": "stream",
     "text": [
      "\n",
      "tf-idf computed!\n",
      "квартира\n",
      "tf computed!\n"
     ]
    },
    {
     "data": {
      "application/vnd.jupyter.widget-view+json": {
       "model_id": "554512a736bf4ea5bc10c075345e651d"
      }
     },
     "metadata": {},
     "output_type": "display_data"
    },
    {
     "name": "stdout",
     "output_type": "stream",
     "text": [
      "\n",
      "tf-idf computed!\n",
      "ученый\n",
      "tf computed!\n"
     ]
    },
    {
     "data": {
      "application/vnd.jupyter.widget-view+json": {
       "model_id": "38b66f9974c046f5a050cdba84b53cba"
      }
     },
     "metadata": {},
     "output_type": "display_data"
    },
    {
     "name": "stdout",
     "output_type": "stream",
     "text": [
      "\n",
      "tf-idf computed!\n",
      "специалист\n",
      "tf computed!\n"
     ]
    },
    {
     "data": {
      "application/vnd.jupyter.widget-view+json": {
       "model_id": "94a455a73bf04a31bff2da970cd3c5c6"
      }
     },
     "metadata": {},
     "output_type": "display_data"
    },
    {
     "name": "stdout",
     "output_type": "stream",
     "text": [
      "\n",
      "tf-idf computed!\n",
      "исследование\n",
      "tf computed!\n"
     ]
    },
    {
     "data": {
      "application/vnd.jupyter.widget-view+json": {
       "model_id": "8dc019e2ec9e4c668a7b700353296e0e"
      }
     },
     "metadata": {},
     "output_type": "display_data"
    },
    {
     "name": "stdout",
     "output_type": "stream",
     "text": [
      "\n",
      "tf-idf computed!\n",
      "институт\n",
      "tf computed!\n"
     ]
    },
    {
     "data": {
      "application/vnd.jupyter.widget-view+json": {
       "model_id": "738df64b87854da483fca2d92cd5c9b2"
      }
     },
     "metadata": {},
     "output_type": "display_data"
    },
    {
     "name": "stdout",
     "output_type": "stream",
     "text": [
      "\n",
      "tf-idf computed!\n",
      "наука\n",
      "tf computed!\n"
     ]
    },
    {
     "data": {
      "application/vnd.jupyter.widget-view+json": {
       "model_id": "30e5efd7651a451884f8b2af51af8692"
      }
     },
     "metadata": {},
     "output_type": "display_data"
    },
    {
     "name": "stdout",
     "output_type": "stream",
     "text": [
      "\n",
      "tf-idf computed!\n",
      "школа\n",
      "tf computed!\n"
     ]
    },
    {
     "data": {
      "application/vnd.jupyter.widget-view+json": {
       "model_id": "8dbead8bc19c42f0a7ff1a58461559f0"
      }
     },
     "metadata": {},
     "output_type": "display_data"
    },
    {
     "name": "stdout",
     "output_type": "stream",
     "text": [
      "\n",
      "tf-idf computed!\n",
      "знание\n",
      "tf computed!\n"
     ]
    },
    {
     "data": {
      "application/vnd.jupyter.widget-view+json": {
       "model_id": "324dbc401fee4217be2bfb3f32d79754"
      }
     },
     "metadata": {},
     "output_type": "display_data"
    },
    {
     "name": "stdout",
     "output_type": "stream",
     "text": [
      "\n",
      "tf-idf computed!\n",
      "технология\n",
      "tf computed!\n"
     ]
    },
    {
     "data": {
      "application/vnd.jupyter.widget-view+json": {
       "model_id": "b6586a7c9fa543ec98156ed9408f37c6"
      }
     },
     "metadata": {},
     "output_type": "display_data"
    },
    {
     "name": "stdout",
     "output_type": "stream",
     "text": [
      "\n",
      "tf-idf computed!\n",
      "факт\n",
      "tf computed!\n"
     ]
    },
    {
     "data": {
      "application/vnd.jupyter.widget-view+json": {
       "model_id": "cb5f8a6df96c404bb7b4af0b76f91fa8"
      }
     },
     "metadata": {},
     "output_type": "display_data"
    },
    {
     "name": "stdout",
     "output_type": "stream",
     "text": [
      "\n",
      "tf-idf computed!\n",
      "фирма\n",
      "tf computed!\n"
     ]
    },
    {
     "data": {
      "application/vnd.jupyter.widget-view+json": {
       "model_id": "a10955696d7a43a1ad7dbb00fc3098ba"
      }
     },
     "metadata": {},
     "output_type": "display_data"
    },
    {
     "name": "stdout",
     "output_type": "stream",
     "text": [
      "\n",
      "tf-idf computed!\n",
      "руководитель\n",
      "tf computed!\n"
     ]
    },
    {
     "data": {
      "application/vnd.jupyter.widget-view+json": {
       "model_id": "58376e437cab4f0c81b7f7cc32059695"
      }
     },
     "metadata": {},
     "output_type": "display_data"
    },
    {
     "name": "stdout",
     "output_type": "stream",
     "text": [
      "\n",
      "tf-idf computed!\n",
      "начальник\n",
      "tf computed!\n"
     ]
    },
    {
     "data": {
      "application/vnd.jupyter.widget-view+json": {
       "model_id": "704160c8906946eda554fabbee8fea2d"
      }
     },
     "metadata": {},
     "output_type": "display_data"
    },
    {
     "name": "stdout",
     "output_type": "stream",
     "text": [
      "\n",
      "tf-idf computed!\n",
      "договор\n",
      "tf computed!\n"
     ]
    },
    {
     "data": {
      "application/vnd.jupyter.widget-view+json": {
       "model_id": "5aef0c4bdaa146829b604a6ce4e206be"
      }
     },
     "metadata": {},
     "output_type": "display_data"
    },
    {
     "name": "stdout",
     "output_type": "stream",
     "text": [
      "\n",
      "tf-idf computed!\n",
      "директор\n",
      "tf computed!\n"
     ]
    },
    {
     "data": {
      "application/vnd.jupyter.widget-view+json": {
       "model_id": "78e607b2b90a454c927a68a10dbd13e2"
      }
     },
     "metadata": {},
     "output_type": "display_data"
    },
    {
     "name": "stdout",
     "output_type": "stream",
     "text": [
      "\n",
      "tf-idf computed!\n",
      "рабочий\n",
      "tf computed!\n"
     ]
    },
    {
     "data": {
      "application/vnd.jupyter.widget-view+json": {
       "model_id": "442be40de7cc490f9bfdcd9de3b65da9"
      }
     },
     "metadata": {},
     "output_type": "display_data"
    },
    {
     "name": "stdout",
     "output_type": "stream",
     "text": [
      "\n",
      "tf-idf computed!\n",
      "экономика\n",
      "tf computed!\n"
     ]
    },
    {
     "data": {
      "application/vnd.jupyter.widget-view+json": {
       "model_id": "139cfcd429c144c1a59aabd2b6ca6cc2"
      }
     },
     "metadata": {},
     "output_type": "display_data"
    },
    {
     "name": "stdout",
     "output_type": "stream",
     "text": [
      "\n",
      "tf-idf computed!\n",
      "министр\n",
      "tf computed!\n"
     ]
    },
    {
     "data": {
      "application/vnd.jupyter.widget-view+json": {
       "model_id": "9a5a2e25c6c6471e9c128c3e229f33b6"
      }
     },
     "metadata": {},
     "output_type": "display_data"
    },
    {
     "name": "stdout",
     "output_type": "stream",
     "text": [
      "\n",
      "tf-idf computed!\n",
      "регион\n",
      "tf computed!\n"
     ]
    },
    {
     "data": {
      "application/vnd.jupyter.widget-view+json": {
       "model_id": "53b2ca0eb38c4faf98aa4464e8f43c98"
      }
     },
     "metadata": {},
     "output_type": "display_data"
    },
    {
     "name": "stdout",
     "output_type": "stream",
     "text": [
      "\n",
      "tf-idf computed!\n",
      "гражданин\n",
      "tf computed!\n"
     ]
    },
    {
     "data": {
      "application/vnd.jupyter.widget-view+json": {
       "model_id": "bdae0c92f4ef4d2fa0ceea8a57a8bc6f"
      }
     },
     "metadata": {},
     "output_type": "display_data"
    },
    {
     "name": "stdout",
     "output_type": "stream",
     "text": [
      "\n",
      "tf-idf computed!\n",
      "политика\n",
      "tf computed!\n"
     ]
    },
    {
     "data": {
      "application/vnd.jupyter.widget-view+json": {
       "model_id": "352aa5aaa60f414997b7b76eecc90434"
      }
     },
     "metadata": {},
     "output_type": "display_data"
    },
    {
     "name": "stdout",
     "output_type": "stream",
     "text": [
      "\n",
      "tf-idf computed!\n",
      "служба\n",
      "tf computed!\n"
     ]
    },
    {
     "data": {
      "application/vnd.jupyter.widget-view+json": {
       "model_id": "0b5a98f650554ea2a17c35a5272cebc1"
      }
     },
     "metadata": {},
     "output_type": "display_data"
    },
    {
     "name": "stdout",
     "output_type": "stream",
     "text": [
      "\n",
      "tf-idf computed!\n",
      "партия\n",
      "tf computed!\n"
     ]
    },
    {
     "data": {
      "application/vnd.jupyter.widget-view+json": {
       "model_id": "62ab3f9bc4ff4995b81e4c451ac7582e"
      }
     },
     "metadata": {},
     "output_type": "display_data"
    },
    {
     "name": "stdout",
     "output_type": "stream",
     "text": [
      "\n",
      "tf-idf computed!\n",
      "федерация\n",
      "tf computed!\n"
     ]
    },
    {
     "data": {
      "application/vnd.jupyter.widget-view+json": {
       "model_id": "4ca8f733200f4101b67409a7e06e912e"
      }
     },
     "metadata": {},
     "output_type": "display_data"
    },
    {
     "name": "stdout",
     "output_type": "stream",
     "text": [
      "\n",
      "tf-idf computed!\n",
      "общественный\n",
      "tf computed!\n"
     ]
    },
    {
     "data": {
      "application/vnd.jupyter.widget-view+json": {
       "model_id": "58e8ec0841ba43bca46761e2768fa201"
      }
     },
     "metadata": {},
     "output_type": "display_data"
    },
    {
     "name": "stdout",
     "output_type": "stream",
     "text": [
      "\n",
      "tf-idf computed!\n",
      "национальный\n",
      "tf computed!\n"
     ]
    },
    {
     "data": {
      "application/vnd.jupyter.widget-view+json": {
       "model_id": "2055463eac684811b80ba35c3670b3fb"
      }
     },
     "metadata": {},
     "output_type": "display_data"
    },
    {
     "name": "stdout",
     "output_type": "stream",
     "text": [
      "\n",
      "tf-idf computed!\n",
      "мировой\n",
      "tf computed!\n"
     ]
    },
    {
     "data": {
      "application/vnd.jupyter.widget-view+json": {
       "model_id": "4e0d79ae7f5c4d9b8161309795dd5e0a"
      }
     },
     "metadata": {},
     "output_type": "display_data"
    },
    {
     "name": "stdout",
     "output_type": "stream",
     "text": [
      "\n",
      "tf-idf computed!\n",
      "экономический\n",
      "tf computed!\n"
     ]
    },
    {
     "data": {
      "application/vnd.jupyter.widget-view+json": {
       "model_id": "64238a74d4eb48b4b1b2bad1b92fdd6b"
      }
     },
     "metadata": {},
     "output_type": "display_data"
    },
    {
     "name": "stdout",
     "output_type": "stream",
     "text": [
      "\n",
      "tf-idf computed!\n",
      "социальный\n",
      "tf computed!\n"
     ]
    },
    {
     "data": {
      "application/vnd.jupyter.widget-view+json": {
       "model_id": "2c456842eca1439dba345f41f361ef29"
      }
     },
     "metadata": {},
     "output_type": "display_data"
    },
    {
     "name": "stdout",
     "output_type": "stream",
     "text": [
      "\n",
      "tf-idf computed!\n",
      "федеральный\n",
      "tf computed!\n"
     ]
    },
    {
     "data": {
      "application/vnd.jupyter.widget-view+json": {
       "model_id": "b923a6454eae4272953f55d42d01b234"
      }
     },
     "metadata": {},
     "output_type": "display_data"
    },
    {
     "name": "stdout",
     "output_type": "stream",
     "text": [
      "\n",
      "tf-idf computed!\n",
      "музыка\n",
      "tf computed!\n"
     ]
    },
    {
     "data": {
      "application/vnd.jupyter.widget-view+json": {
       "model_id": "90eb78df842b4b76a14098a6f698fa1b"
      }
     },
     "metadata": {},
     "output_type": "display_data"
    },
    {
     "name": "stdout",
     "output_type": "stream",
     "text": [
      "\n",
      "tf-idf computed!\n",
      "писатель\n",
      "tf computed!\n"
     ]
    },
    {
     "data": {
      "application/vnd.jupyter.widget-view+json": {
       "model_id": "b457c8e64a60431e93caa9985c63e5db"
      }
     },
     "metadata": {},
     "output_type": "display_data"
    },
    {
     "name": "stdout",
     "output_type": "stream",
     "text": [
      "\n",
      "tf-idf computed!\n",
      "сцена\n",
      "tf computed!\n"
     ]
    },
    {
     "data": {
      "application/vnd.jupyter.widget-view+json": {
       "model_id": "3ed065278aa34fd69c3bcf971d1a34a4"
      }
     },
     "metadata": {},
     "output_type": "display_data"
    },
    {
     "name": "stdout",
     "output_type": "stream",
     "text": [
      "\n",
      "tf-idf computed!\n",
      "спектакль\n",
      "tf computed!\n"
     ]
    },
    {
     "data": {
      "application/vnd.jupyter.widget-view+json": {
       "model_id": "2c51d9053a6d4d40be1f06bb71335e65"
      }
     },
     "metadata": {},
     "output_type": "display_data"
    },
    {
     "name": "stdout",
     "output_type": "stream",
     "text": [
      "\n",
      "tf-idf computed!\n",
      "картина\n",
      "tf computed!\n"
     ]
    },
    {
     "data": {
      "application/vnd.jupyter.widget-view+json": {
       "model_id": "6122f35d3b014ec9b2517077ea9c85ad"
      }
     },
     "metadata": {},
     "output_type": "display_data"
    },
    {
     "name": "stdout",
     "output_type": "stream",
     "text": [
      "\n",
      "tf-idf computed!\n",
      "искусство\n",
      "tf computed!\n"
     ]
    },
    {
     "data": {
      "application/vnd.jupyter.widget-view+json": {
       "model_id": "a8709d1b54b24d02a9c39f6f32de703c"
      }
     },
     "metadata": {},
     "output_type": "display_data"
    },
    {
     "name": "stdout",
     "output_type": "stream",
     "text": [
      "\n",
      "tf-idf computed!\n",
      "фильм\n",
      "tf computed!\n"
     ]
    },
    {
     "data": {
      "application/vnd.jupyter.widget-view+json": {
       "model_id": "5554a99fa4bf48afb17655ad28a0f806"
      }
     },
     "metadata": {},
     "output_type": "display_data"
    },
    {
     "name": "stdout",
     "output_type": "stream",
     "text": [
      "\n",
      "tf-idf computed!\n",
      "культура\n",
      "tf computed!\n"
     ]
    },
    {
     "data": {
      "application/vnd.jupyter.widget-view+json": {
       "model_id": "fb197d5cce434be4baf6edfdfc97110d"
      }
     },
     "metadata": {},
     "output_type": "display_data"
    },
    {
     "name": "stdout",
     "output_type": "stream",
     "text": [
      "\n",
      "tf-idf computed!\n",
      "автор\n",
      "tf computed!\n"
     ]
    },
    {
     "data": {
      "application/vnd.jupyter.widget-view+json": {
       "model_id": "786e51b332064002b33f4cadc379cfc0"
      }
     },
     "metadata": {},
     "output_type": "display_data"
    },
    {
     "name": "stdout",
     "output_type": "stream",
     "text": [
      "\n",
      "tf-idf computed!\n",
      "театр\n",
      "tf computed!\n"
     ]
    },
    {
     "data": {
      "application/vnd.jupyter.widget-view+json": {
       "model_id": "ddcde2140c0c4e6fac49b99915fd1b06"
      }
     },
     "metadata": {},
     "output_type": "display_data"
    },
    {
     "name": "stdout",
     "output_type": "stream",
     "text": [
      "\n",
      "tf-idf computed!\n"
     ]
    }
   ],
   "source": [
    "tf_idf = compute_tfidf(contexts)\n",
    "write_in_json('data/tf_idf', tf_idf)"
   ]
  },
  {
   "cell_type": "code",
   "execution_count": 43,
   "metadata": {
    "collapsed": true
   },
   "outputs": [],
   "source": [
    "sorted_tf_idf = {}\n",
    "for word in tf_idf.keys():    \n",
    "    one_sorted_tf_idf = sorted(tf_idf[word].items(), key=operator.itemgetter(1), reverse = True)\n",
    "    sorted_tf_idf[word] = dict(one_sorted_tf_idf[0:100])\n",
    "write_in_json('data/sorted_tf_idf', sorted_tf_idf)"
   ]
  },
  {
   "cell_type": "markdown",
   "metadata": {},
   "source": [
    "#### Облака по tf-idf частотам"
   ]
  },
  {
   "cell_type": "code",
   "execution_count": 23,
   "metadata": {},
   "outputs": [],
   "source": [
    "sorted_tf_idf = read_from_json('data/sorted_tf_idf')\n",
    "for word in sorted_tf_idf.keys():    \n",
    "    definition_tf_idf = Cloud(\"tf-idf/tf_idf_\"+word, sorted_tf_idf[word])\n",
    "    write_in_txt(\"cloud_words/tf-idf/tf_idf_\"+word, definition_tf_idf)"
   ]
  },
  {
   "cell_type": "markdown",
   "metadata": {},
   "source": [
    "### Новые слова"
   ]
  },
  {
   "cell_type": "code",
   "execution_count": 10,
   "metadata": {
    "collapsed": true
   },
   "outputs": [],
   "source": [
    "def read_json_contexts_id(word_list):\n",
    "    new_words_id = read_from_json('data/neologisms.json')\n",
    "    contexts = {}\n",
    "    for dic in new_words_id:\n",
    "        forms = dic[\"list\"]\n",
    "        for w in word_list:\n",
    "            for f in forms:            \n",
    "                if have_same_root(w, f):\n",
    "                    print(w)\n",
    "                    if w not in contexts.keys():\n",
    "                        contexts[w] = []\n",
    "                    for c in dic[\"contexts\"]:\n",
    "                        if f in c[\"words\"]:\n",
    "                            oid = c[\"_id\"][\"$oid\"]\n",
    "                            if oid not in contexts[w]:\n",
    "                                contexts[w].append(oid)\n",
    "                    break\n",
    "    return contexts"
   ]
  },
  {
   "cell_type": "code",
   "execution_count": 11,
   "metadata": {},
   "outputs": [
    {
     "name": "stdout",
     "output_type": "stream",
     "text": [
      "волатильность\n",
      "сверхдоход\n",
      "кибератака\n",
      "санкционный\n",
      "биткоин\n",
      "майнинг\n",
      "кибератака\n",
      "фейковый\n",
      "майнинг\n",
      "майнинг\n",
      "биткоин\n",
      "фейковый\n",
      "биткоин\n",
      "фейковый\n",
      "гастарбайтер\n",
      "спорткар\n",
      "спорткар\n",
      "притравка\n",
      "кошмарящий\n"
     ]
    }
   ],
   "source": [
    "new_words = read_words('data/new_words.txt')\n",
    "contexts_id_new = read_json_contexts_id(new_words)"
   ]
  },
  {
   "cell_type": "code",
   "execution_count": 12,
   "metadata": {
    "collapsed": true
   },
   "outputs": [],
   "source": [
    "def read_json_contexts_texts(contexts_id_new):\n",
    "    new_words_texts = read_from_json('data/contexts.json')\n",
    "    res_context = {}\n",
    "    for w in contexts_id_new.keys():\n",
    "        res_context[w] = []\n",
    "        print(w)\n",
    "        for i in contexts_id_new[w]:\n",
    "            for c in new_words_texts:\n",
    "                if c[\"_id\"][\"$oid\"] == i:\n",
    "                    text = c[\"context\"].lower()\n",
    "                    words = re.findall(\"[а-я][а-я]+\", text)\n",
    "                    norms = []\n",
    "                    for word in words:\n",
    "                        normal = morph.parse(word)[0].normal_form\n",
    "                        if normal not in STOPS:\n",
    "                            norms.append(normal)\n",
    "                    if norms not in res_context[w]:\n",
    "                        for n in norms:\n",
    "                            res_context[w].append(n)\n",
    "                    break\n",
    "    return res_context"
   ]
  },
  {
   "cell_type": "code",
   "execution_count": 13,
   "metadata": {},
   "outputs": [
    {
     "name": "stdout",
     "output_type": "stream",
     "text": [
      "волатильность\n",
      "сверхдоход\n",
      "кибератака\n",
      "санкционный\n",
      "биткоин\n",
      "майнинг\n",
      "фейковый\n",
      "гастарбайтер\n",
      "спорткар\n",
      "притравка\n",
      "кошмарящий\n"
     ]
    }
   ],
   "source": [
    "contexts_new = read_json_contexts_texts(contexts_id_new)"
   ]
  },
  {
   "cell_type": "code",
   "execution_count": 76,
   "metadata": {},
   "outputs": [],
   "source": [
    "write_in_json(\"data/contexts_new.json\", contexts_new)"
   ]
  },
  {
   "cell_type": "markdown",
   "metadata": {},
   "source": [
    "#### Облака для новых слов по tf"
   ]
  },
  {
   "cell_type": "code",
   "execution_count": 80,
   "metadata": {},
   "outputs": [],
   "source": [
    "for word in contexts_new.keys():\n",
    "    sents = contexts_new[word]\n",
    "    dic = getFrequencyDictForText(sents, word)\n",
    "    definition = Cloud(\"new/tf/\"+word, dic)\n",
    "    write_in_txt(\"cloud_words/new/tf/\"+word, definition)"
   ]
  },
  {
   "cell_type": "markdown",
   "metadata": {},
   "source": [
    "#### Облака для новых слов из fasttext"
   ]
  },
  {
   "cell_type": "code",
   "execution_count": 39,
   "metadata": {},
   "outputs": [
    {
     "name": "stderr",
     "output_type": "stream",
     "text": [
      "C:\\Users\\VDanilova\\AppData\\Local\\Continuum\\Anaconda3\\lib\\site-packages\\ipykernel_launcher.py:4: DeprecationWarning: Call to deprecated `iter` (Attribute will be removed in 4.0.0, use self.epochs instead).\n",
      "  after removing the cwd from sys.path.\n"
     ]
    },
    {
     "name": "stdout",
     "output_type": "stream",
     "text": [
      "волатильность\n",
      "сверхдоход\n",
      "кибератака\n",
      "санкционный\n",
      "биткоин\n",
      "майнинг\n",
      "фейковый\n",
      "гастарбайтер\n",
      "спорткар\n",
      "притравка\n",
      "кошмарящий\n"
     ]
    }
   ],
   "source": [
    "for word in contexts_new.keys():\n",
    "    sents = contexts_new[word]\n",
    "    ft_model.build_vocab(sents, update=True)\n",
    "    ft_model.train(sents, total_examples=ft_model.corpus_count, epochs=ft_model.iter)\n",
    "    syn_dic = {}        \n",
    "    print(word)\n",
    "    for i in ft_model.wv.most_similar(positive=[word], topn=100):\n",
    "        neighbour = i[0]\n",
    "        if re.match(r'[а-я]+$',neighbour) and not have_same_root(neighbour,word) and neighbour not in syn_dic.keys():\n",
    "            syn_dic[neighbour] = i[1]\n",
    "    definition = Cloud(\"new/syns/\"+word, syn_dic)\n",
    "    write_in_txt(\"cloud_words/new/syns/\"+word, definition)"
   ]
  },
  {
   "cell_type": "markdown",
   "metadata": {},
   "source": [
    "### Комбо-облака для новых слов!"
   ]
  },
  {
   "cell_type": "code",
   "execution_count": 44,
   "metadata": {},
   "outputs": [
    {
     "name": "stdout",
     "output_type": "stream",
     "text": [
      "волатильность\n",
      "сверхдоход\n",
      "кибератака\n",
      "санкционный\n",
      "биткоин\n",
      "майнинг\n",
      "фейковый\n",
      "гастарбайтер\n",
      "спорткар\n",
      "притравка\n",
      "кошмарящий\n"
     ]
    }
   ],
   "source": [
    "for word in contexts_new.keys():\n",
    "    sents = contexts_new[word]\n",
    "    context_dic = getFrequencyDictForText(sents, word)        \n",
    "    print(word)\n",
    "    for i in ft_model.wv.most_similar(positive=[word], topn=100):\n",
    "        neighbour = i[0]\n",
    "        if len(neighbour)> 3 and re.match(r'[а-я]+$',neighbour) and not have_same_root(neighbour,word) and neighbour not in context_dic.keys():\n",
    "            context_dic.add(neighbour,i[1])\n",
    "    definition = Cloud(\"new/combo/\"+word, context_dic)\n",
    "    write_in_json(\"cloud_words/new/combo/\"+word+\".json\", definition)"
   ]
  },
  {
   "cell_type": "markdown",
   "metadata": {},
   "source": [
    "### Комбо-облака для тестовых слов!"
   ]
  },
  {
   "cell_type": "code",
   "execution_count": 19,
   "metadata": {},
   "outputs": [
    {
     "name": "stdout",
     "output_type": "stream",
     "text": [
      "строительство\n",
      "двор\n",
      "завод\n",
      "автомобиль\n",
      "самолет\n",
      "стена\n",
      "улица\n",
      "дорога\n",
      "площадь\n",
      "окно\n",
      "квартира\n",
      "ученый\n",
      "специалист\n",
      "исследование\n",
      "институт\n",
      "наука\n",
      "школа\n",
      "знание\n",
      "технология\n",
      "факт\n",
      "фирма\n",
      "руководитель\n",
      "начальник\n",
      "договор\n",
      "директор\n",
      "рабочий\n",
      "экономика\n",
      "министр\n",
      "регион\n",
      "гражданин\n",
      "политика\n",
      "служба\n",
      "партия\n",
      "федерация\n",
      "общественный\n",
      "национальный\n",
      "мировой\n",
      "экономический\n",
      "социальный\n",
      "федеральный\n",
      "музыка\n",
      "писатель\n",
      "сцена\n",
      "спектакль\n",
      "картина\n",
      "искусство\n",
      "фильм\n",
      "культура\n",
      "автор\n",
      "театр\n"
     ]
    }
   ],
   "source": [
    "for word in test_words:\n",
    "    sents = contexts[word]\n",
    "    dic = getFrequencyDictForText(sents, word)        \n",
    "    print(word)\n",
    "    for i in ft_model.wv.most_similar(positive=[word], topn=100):\n",
    "        neighbour = i[0]\n",
    "        if len(neighbour)> 3 and re.match(r'[а-я]+$',neighbour) and not have_same_root(neighbour,word) and neighbour not in dic.keys():\n",
    "            dic.add(neighbour,i[1])\n",
    "    definition = Cloud(\"combo/\"+word, dic)\n",
    "    write_in_json(\"cloud_words/combo/\"+word+\".json\", definition)"
   ]
  },
  {
   "cell_type": "code",
   "execution_count": null,
   "metadata": {
    "collapsed": true
   },
   "outputs": [],
   "source": []
  }
 ],
 "metadata": {
  "kernelspec": {
   "display_name": "Python 3",
   "language": "python",
   "name": "python3"
  },
  "language_info": {
   "codemirror_mode": {
    "name": "ipython",
    "version": 3
   },
   "file_extension": ".py",
   "mimetype": "text/x-python",
   "name": "python",
   "nbconvert_exporter": "python",
   "pygments_lexer": "ipython3",
   "version": "3.6.1"
  },
  "widgets": {
   "application/vnd.jupyter.widget-state+json": {
    "state": {
     "03cc23e39e57427bb4b3496f67185c8b": {
      "model_module": "jupyter-js-widgets",
      "model_module_version": "~2.1.4",
      "model_name": "LayoutModel",
      "state": {
       "_model_module_version": "~2.1.4",
       "_view_module_version": "~2.1.4"
      }
     },
     "0485221e9da447a7bbc38c693e6e34bc": {
      "model_module": "jupyter-js-widgets",
      "model_module_version": "~2.1.4",
      "model_name": "ProgressStyleModel",
      "state": {
       "_model_module_version": "~2.1.4",
       "_view_module_version": "~2.1.4"
      }
     },
     "0b7d049388684ea1a595f95a6f39f8b8": {
      "model_module": "jupyter-js-widgets",
      "model_module_version": "~2.1.4",
      "model_name": "ProgressStyleModel",
      "state": {
       "_model_module_version": "~2.1.4",
       "_view_module_version": "~2.1.4"
      }
     },
     "134f619915a147e2ad8c00fafcbb8099": {
      "model_module": "jupyter-js-widgets",
      "model_module_version": "~2.1.4",
      "model_name": "HTMLModel",
      "state": {
       "_model_module_version": "~2.1.4",
       "_view_module_version": "~2.1.4",
       "layout": "IPY_MODEL_5361a5b317ce49e5b80693106d91f195",
       "value": "100% 6323/6323 [02:33&lt;00:00, 41.32it/s]"
      }
     },
     "1f4bb225f65c4794bb446692a69d5e88": {
      "model_module": "jupyter-js-widgets",
      "model_module_version": "~2.1.4",
      "model_name": "LayoutModel",
      "state": {
       "_model_module_version": "~2.1.4",
       "_view_module_version": "~2.1.4"
      }
     },
     "224c157e624942598dfb11a5a1a02a22": {
      "model_module": "jupyter-js-widgets",
      "model_module_version": "~2.1.4",
      "model_name": "LayoutModel",
      "state": {
       "_model_module_version": "~2.1.4",
       "_view_module_version": "~2.1.4"
      }
     },
     "24bf9c8fcbe34bd291a929fcbc19e068": {
      "model_module": "jupyter-js-widgets",
      "model_module_version": "~2.1.4",
      "model_name": "HBoxModel",
      "state": {
       "_model_module_version": "~2.1.4",
       "_view_module_version": "~2.1.4",
       "children": [
        "IPY_MODEL_c6108db0f1ac4cd59eb94bfe9dabb5bb",
        "IPY_MODEL_6be5352d4e514ded8439f1c31920b241"
       ],
       "layout": "IPY_MODEL_6246bc9628ad4dbf8c3e91b4b15d60d9"
      }
     },
     "3905725882484312bea79aa65cb7cd4b": {
      "model_module": "jupyter-js-widgets",
      "model_module_version": "~2.1.4",
      "model_name": "LayoutModel",
      "state": {
       "_model_module_version": "~2.1.4",
       "_view_module_version": "~2.1.4"
      }
     },
     "3f6601c0591e4d49aabcc87c7cd2c8cf": {
      "model_module": "jupyter-js-widgets",
      "model_module_version": "~2.1.4",
      "model_name": "ProgressModel",
      "state": {
       "_model_module_version": "~2.1.4",
       "_view_module_version": "~2.1.4",
       "bar_style": "success",
       "layout": "IPY_MODEL_3905725882484312bea79aa65cb7cd4b",
       "max": 6323,
       "style": "IPY_MODEL_efb202e688d546d78c12ef380e8fc287",
       "value": 6323
      }
     },
     "42ee645be17440e38a55c0bada3f969f": {
      "model_module": "jupyter-js-widgets",
      "model_module_version": "~2.1.4",
      "model_name": "ProgressModel",
      "state": {
       "_model_module_version": "~2.1.4",
       "_view_module_version": "~2.1.4",
       "bar_style": "success",
       "layout": "IPY_MODEL_03cc23e39e57427bb4b3496f67185c8b",
       "max": 1,
       "style": "IPY_MODEL_fc291326af8d4db3b20473661a508468",
       "value": 1
      }
     },
     "5361a5b317ce49e5b80693106d91f195": {
      "model_module": "jupyter-js-widgets",
      "model_module_version": "~2.1.4",
      "model_name": "LayoutModel",
      "state": {
       "_model_module_version": "~2.1.4",
       "_view_module_version": "~2.1.4"
      }
     },
     "5f0ef9a62fdb45be92a9cc6c92a5b73a": {
      "model_module": "jupyter-js-widgets",
      "model_module_version": "~2.1.4",
      "model_name": "LayoutModel",
      "state": {
       "_model_module_version": "~2.1.4",
       "_view_module_version": "~2.1.4"
      }
     },
     "6246bc9628ad4dbf8c3e91b4b15d60d9": {
      "model_module": "jupyter-js-widgets",
      "model_module_version": "~2.1.4",
      "model_name": "LayoutModel",
      "state": {
       "_model_module_version": "~2.1.4",
       "_view_module_version": "~2.1.4"
      }
     },
     "6be5352d4e514ded8439f1c31920b241": {
      "model_module": "jupyter-js-widgets",
      "model_module_version": "~2.1.4",
      "model_name": "HTMLModel",
      "state": {
       "_model_module_version": "~2.1.4",
       "_view_module_version": "~2.1.4",
       "layout": "IPY_MODEL_5f0ef9a62fdb45be92a9cc6c92a5b73a",
       "value": "100% 31358/31358 [12:41&lt;00:00, 41.20it/s]"
      }
     },
     "751cd375608d49eeb834b49e1b1dcb94": {
      "model_module": "jupyter-js-widgets",
      "model_module_version": "~2.1.4",
      "model_name": "HTMLModel",
      "state": {
       "_model_module_version": "~2.1.4",
       "_view_module_version": "~2.1.4",
       "layout": "IPY_MODEL_9297d95fbc67432f8d04e0d36d4b8268",
       "value": "100% 857/857 [00:34&lt;00:00, 24.82it/s]"
      }
     },
     "7ad8e9440ed7491a80bdfac0ff18a91e": {
      "model_module": "jupyter-js-widgets",
      "model_module_version": "~2.1.4",
      "model_name": "HTMLModel",
      "state": {
       "_model_module_version": "~2.1.4",
       "_view_module_version": "~2.1.4",
       "layout": "IPY_MODEL_c622704fcae84ae3a6d6b3697a054762",
       "value": "0it [00:00, ?it/s]"
      }
     },
     "88e590b22ebf489eb8018e0f0aecac57": {
      "model_module": "jupyter-js-widgets",
      "model_module_version": "~2.1.4",
      "model_name": "HBoxModel",
      "state": {
       "_model_module_version": "~2.1.4",
       "_view_module_version": "~2.1.4",
       "children": [
        "IPY_MODEL_e5e8373e9bc149bd97d05fb15d774b96",
        "IPY_MODEL_751cd375608d49eeb834b49e1b1dcb94"
       ],
       "layout": "IPY_MODEL_1f4bb225f65c4794bb446692a69d5e88"
      }
     },
     "8d15aa2cf89c4f92b654342ab0d2c5ea": {
      "model_module": "jupyter-js-widgets",
      "model_module_version": "~2.1.4",
      "model_name": "HBoxModel",
      "state": {
       "_model_module_version": "~2.1.4",
       "_view_module_version": "~2.1.4",
       "children": [
        "IPY_MODEL_42ee645be17440e38a55c0bada3f969f",
        "IPY_MODEL_7ad8e9440ed7491a80bdfac0ff18a91e"
       ],
       "layout": "IPY_MODEL_e655f2418d5447ab95d7c750e0f7c3b2"
      }
     },
     "9297d95fbc67432f8d04e0d36d4b8268": {
      "model_module": "jupyter-js-widgets",
      "model_module_version": "~2.1.4",
      "model_name": "LayoutModel",
      "state": {
       "_model_module_version": "~2.1.4",
       "_view_module_version": "~2.1.4"
      }
     },
     "bee57b5e74f44bc1955a72f08032370d": {
      "model_module": "jupyter-js-widgets",
      "model_module_version": "~2.1.4",
      "model_name": "LayoutModel",
      "state": {
       "_model_module_version": "~2.1.4",
       "_view_module_version": "~2.1.4"
      }
     },
     "c6108db0f1ac4cd59eb94bfe9dabb5bb": {
      "model_module": "jupyter-js-widgets",
      "model_module_version": "~2.1.4",
      "model_name": "ProgressModel",
      "state": {
       "_model_module_version": "~2.1.4",
       "_view_module_version": "~2.1.4",
       "bar_style": "success",
       "layout": "IPY_MODEL_bee57b5e74f44bc1955a72f08032370d",
       "max": 31358,
       "style": "IPY_MODEL_0485221e9da447a7bbc38c693e6e34bc",
       "value": 31358
      }
     },
     "c622704fcae84ae3a6d6b3697a054762": {
      "model_module": "jupyter-js-widgets",
      "model_module_version": "~2.1.4",
      "model_name": "LayoutModel",
      "state": {
       "_model_module_version": "~2.1.4",
       "_view_module_version": "~2.1.4"
      }
     },
     "cd27e57a220a4842aafb6a04a0b7b56b": {
      "model_module": "jupyter-js-widgets",
      "model_module_version": "~2.1.4",
      "model_name": "HBoxModel",
      "state": {
       "_model_module_version": "~2.1.4",
       "_view_module_version": "~2.1.4",
       "children": [
        "IPY_MODEL_3f6601c0591e4d49aabcc87c7cd2c8cf",
        "IPY_MODEL_134f619915a147e2ad8c00fafcbb8099"
       ],
       "layout": "IPY_MODEL_224c157e624942598dfb11a5a1a02a22"
      }
     },
     "d5816ce48cc2470e99ef2afbb6b0854c": {
      "model_module": "jupyter-js-widgets",
      "model_module_version": "~2.1.4",
      "model_name": "LayoutModel",
      "state": {
       "_model_module_version": "~2.1.4",
       "_view_module_version": "~2.1.4"
      }
     },
     "e5e8373e9bc149bd97d05fb15d774b96": {
      "model_module": "jupyter-js-widgets",
      "model_module_version": "~2.1.4",
      "model_name": "ProgressModel",
      "state": {
       "_model_module_version": "~2.1.4",
       "_view_module_version": "~2.1.4",
       "bar_style": "success",
       "layout": "IPY_MODEL_d5816ce48cc2470e99ef2afbb6b0854c",
       "max": 857,
       "style": "IPY_MODEL_0b7d049388684ea1a595f95a6f39f8b8",
       "value": 857
      }
     },
     "e655f2418d5447ab95d7c750e0f7c3b2": {
      "model_module": "jupyter-js-widgets",
      "model_module_version": "~2.1.4",
      "model_name": "LayoutModel",
      "state": {
       "_model_module_version": "~2.1.4",
       "_view_module_version": "~2.1.4"
      }
     },
     "efb202e688d546d78c12ef380e8fc287": {
      "model_module": "jupyter-js-widgets",
      "model_module_version": "~2.1.4",
      "model_name": "ProgressStyleModel",
      "state": {
       "_model_module_version": "~2.1.4",
       "_view_module_version": "~2.1.4"
      }
     },
     "fc291326af8d4db3b20473661a508468": {
      "model_module": "jupyter-js-widgets",
      "model_module_version": "~2.1.4",
      "model_name": "ProgressStyleModel",
      "state": {
       "_model_module_version": "~2.1.4",
       "_view_module_version": "~2.1.4"
      }
     }
    },
    "version_major": 1,
    "version_minor": 0
   }
  }
 },
 "nbformat": 4,
 "nbformat_minor": 2
}
