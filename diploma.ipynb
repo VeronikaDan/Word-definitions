{
 "cells": [
  {
   "cell_type": "code",
   "execution_count": 24,
   "metadata": {},
   "outputs": [
    {
     "name": "stderr",
     "output_type": "stream",
     "text": [
      "C:\\Users\\VDanilova\\AppData\\Local\\Continuum\\Anaconda3\\lib\\site-packages\\gensim\\utils.py:1197: UserWarning: detected Windows; aliasing chunkize to chunkize_serial\n",
      "  warnings.warn(\"detected Windows; aliasing chunkize to chunkize_serial\")\n"
     ]
    }
   ],
   "source": [
    "import json, os, re, operator, math, multidict\n",
    "import os\n",
    "from tqdm import tqdm_notebook as tqdm\n",
    "from pymorphy2 import MorphAnalyzer\n",
    "morph = MorphAnalyzer()\n",
    "from wordcloud import WordCloud\n",
    "import matplotlib.pyplot as plt\n",
    "import paths\n",
    "from collections import Counter\n",
    "from Stemmer import Stemmer\n",
    "stemmer = Stemmer('russian')\n",
    "from gensim.models import KeyedVectors "
   ]
  },
  {
   "cell_type": "code",
   "execution_count": 2,
   "metadata": {
    "collapsed": true
   },
   "outputs": [],
   "source": [
    "#from nltk.corpus import stopwords\n",
    "\n",
    "#stops = stopwords.words('russian')\n",
    "#print(stops)"
   ]
  },
  {
   "cell_type": "code",
   "execution_count": 3,
   "metadata": {
    "collapsed": true
   },
   "outputs": [],
   "source": [
    "def write_in_json(path, data):\n",
    "    f = open(path, 'w', encoding = 'utf-8')\n",
    "    json.dump(data, f, indent = 2, ensure_ascii = False)\n",
    "    f.close()\n",
    "    \n",
    "\n",
    "def read_from_json(path):\n",
    "    with open(path, encoding = 'utf-8') as json_file:  \n",
    "        data = json.load(json_file)\n",
    "    return data"
   ]
  },
  {
   "cell_type": "markdown",
   "metadata": {},
   "source": [
    "### Считываем весь корпус и считаем частотности слов"
   ]
  },
  {
   "cell_type": "code",
   "execution_count": 4,
   "metadata": {
    "collapsed": true
   },
   "outputs": [],
   "source": [
    "def load_texts():\n",
    "    dirs = os.walk('C:\\\\Users\\\\VDanilova\\\\HSE\\\\ruscorpora')\n",
    "    texts = []\n",
    "    for dirr in dirs:    \n",
    "        path = dirr[0] + '/'\n",
    "        files = dirr[2]\n",
    "        for file in tqdm(files):\n",
    "            text = read_from_json(path + file)\n",
    "            for t in text:\n",
    "                for sent in t:\n",
    "                    texts.append(sent)\n",
    "    return texts"
   ]
  },
  {
   "cell_type": "code",
   "execution_count": 5,
   "metadata": {
    "collapsed": true
   },
   "outputs": [],
   "source": [
    "def count_words(texts):\n",
    "    ct = Counter()\n",
    "    for word in texts:\n",
    "        ct[word] += 1  \n",
    "    return ct         "
   ]
  },
  {
   "cell_type": "code",
   "execution_count": 6,
   "metadata": {
    "collapsed": true
   },
   "outputs": [],
   "source": [
    "#texts = load_texts()"
   ]
  },
  {
   "cell_type": "code",
   "execution_count": 7,
   "metadata": {},
   "outputs": [],
   "source": [
    "#ct = count_words(texts)\n",
    "#print (ct.most_common(100)) "
   ]
  },
  {
   "cell_type": "code",
   "execution_count": 8,
   "metadata": {
    "collapsed": true
   },
   "outputs": [],
   "source": [
    "def word_freq_plot(ct):\n",
    "    freq = {}\n",
    "    for word in ct.keys():\n",
    "        number = ct[word]\n",
    "        if number//50 not in freq.keys():\n",
    "            freq[number//50] = []\n",
    "        freq[number//50].append(word)    \n",
    "    \n",
    "    x = list(freq.keys())\n",
    "    x.sort()\n",
    "    y = []\n",
    "    x1 = []\n",
    "    for fr in x:\n",
    "        if (fr < 1000):\n",
    "            x1.append(fr)\n",
    "            y.append(len(freq[fr]))\n",
    "    print(max(x1))\n",
    "    print(max(y))\n",
    "    dpi = 80\n",
    "    fig = plt.figure(dpi = dpi, figsize = (512*2 / dpi, 384*2 / dpi) )\n",
    "\n",
    "    plt.plot(x1,y, color = 'blue')\n",
    "\n",
    "    plt.title('Word frequency')\n",
    "    plt.ylabel('Number of words')\n",
    "    plt.xlabel('Number of mentions // 50') \n",
    "    \n",
    "    plt.show()\n",
    "    fig.savefig('word_freq.png')\n",
    "    return freq"
   ]
  },
  {
   "cell_type": "code",
   "execution_count": 139,
   "metadata": {},
   "outputs": [
    {
     "name": "stdout",
     "output_type": "stream",
     "text": [
      "974\n",
      "695199\n"
     ]
    },
    {
     "data": {
      "image/png": "[encoded data removed]",
      "text/plain": [
       "<matplotlib.figure.Figure at 0x1458de7f0>"
      ]
     },
     "metadata": {},
     "output_type": "display_data"
    }
   ],
   "source": [
    "#freq = word_freq_plot(ct)"
   ]
  },
  {
   "cell_type": "code",
   "execution_count": 9,
   "metadata": {},
   "outputs": [],
   "source": [
    "#x = list(freq.keys())\n",
    "#x.sort()\n",
    "#print(len(x))"
   ]
  },
  {
   "cell_type": "markdown",
   "metadata": {},
   "source": [
    "#### Выписываем слова со средней частотностью"
   ]
  },
  {
   "cell_type": "code",
   "execution_count": 10,
   "metadata": {
    "collapsed": true
   },
   "outputs": [],
   "source": [
    "def write_in_txt(name, data):\n",
    "    with open(name+'.txt', 'w', encoding='utf-8') as f:\n",
    "        for line in data:\n",
    "            l = \"\"\n",
    "            if type(line) == list:\n",
    "                for word in line:\n",
    "                    l += word\n",
    "                    l += \", \"\n",
    "            else: l = line\n",
    "            f.write(l+\"\\n\")"
   ]
  },
  {
   "cell_type": "code",
   "execution_count": 11,
   "metadata": {
    "collapsed": true
   },
   "outputs": [],
   "source": [
    "#words = []\n",
    "#for fr in x[250:450]:\n",
    "#    words.append(freq[fr])\n",
    "#write_in_txt(\"words\", words)"
   ]
  },
  {
   "cell_type": "code",
   "execution_count": 146,
   "metadata": {},
   "outputs": [
    {
     "data": {
      "text/plain": [
       "'12500-24600'"
      ]
     },
     "execution_count": 146,
     "metadata": {},
     "output_type": "execute_result"
    }
   ],
   "source": [
    "#str(x[250]*50)+\"-\"+str(x[450]*50)"
   ]
  },
  {
   "cell_type": "markdown",
   "metadata": {},
   "source": [
    "### Считываем выбранные для тестирования слова и их контексты"
   ]
  },
  {
   "cell_type": "code",
   "execution_count": 12,
   "metadata": {
    "collapsed": true
   },
   "outputs": [],
   "source": [
    "def read_words(file):\n",
    "    res = []\n",
    "    with open(file, 'r', encoding='utf-8') as f:\n",
    "        lines = f.readlines()\n",
    "    for line in lines:\n",
    "        words = line.strip('\\n').split(' ')\n",
    "        for w in words:\n",
    "            res.append(w)\n",
    "    return res"
   ]
  },
  {
   "cell_type": "code",
   "execution_count": 13,
   "metadata": {
    "collapsed": true
   },
   "outputs": [],
   "source": [
    "test_words = read_words('data/sem_groups.txt')"
   ]
  },
  {
   "cell_type": "code",
   "execution_count": 14,
   "metadata": {},
   "outputs": [],
   "source": [
    "def load_contexts(words):\n",
    "    dirs = os.walk(paths._ruscorpora_)\n",
    "    texts = {}\n",
    "    for word in words:\n",
    "        texts[word] = []\n",
    "    for dirr in dirs:    \n",
    "        path = dirr[0] + '/'\n",
    "        files = dirr[2]\n",
    "        for file in tqdm(files):\n",
    "            text = read_from_json(path + file)\n",
    "            for sent in text:\n",
    "                for w in words:\n",
    "                    if (w in sent) or (w.replace(\"е\", \"ё\") in sent):\n",
    "                        for word in sent:\n",
    "                            texts[w].append(word)\n",
    "    return texts"
   ]
  },
  {
   "cell_type": "code",
   "execution_count": 15,
   "metadata": {},
   "outputs": [
    {
     "data": {
      "application/vnd.jupyter.widget-view+json": {
       "model_id": "d322614708f442a0bf3b9ebcf0982e65"
      }
     },
     "metadata": {},
     "output_type": "display_data"
    },
    {
     "data": {
      "application/vnd.jupyter.widget-view+json": {
       "model_id": "716b80d48ee44b158a3d6639db3daf02"
      }
     },
     "metadata": {},
     "output_type": "display_data"
    },
    {
     "name": "stdout",
     "output_type": "stream",
     "text": [
      "\n"
     ]
    },
    {
     "name": "stderr",
     "output_type": "stream",
     "text": [
      "Exception in thread Thread-8:\n",
      "Traceback (most recent call last):\n",
      "  File \"C:\\Users\\VDanilova\\AppData\\Local\\Continuum\\Anaconda3\\lib\\threading.py\", line 916, in _bootstrap_inner\n",
      "    self.run()\n",
      "  File \"C:\\Users\\VDanilova\\AppData\\Local\\Continuum\\Anaconda3\\lib\\site-packages\\tqdm\\_tqdm.py\", line 144, in run\n",
      "    for instance in self.tqdm_cls._instances:\n",
      "  File \"C:\\Users\\VDanilova\\AppData\\Local\\Continuum\\Anaconda3\\lib\\_weakrefset.py\", line 60, in __iter__\n",
      "    for itemref in self.data:\n",
      "RuntimeError: Set changed size during iteration\n",
      "\n"
     ]
    },
    {
     "name": "stdout",
     "output_type": "stream",
     "text": [
      "\n"
     ]
    },
    {
     "data": {
      "application/vnd.jupyter.widget-view+json": {
       "model_id": "7a9d5b19ad5a41039a02d5ce4c4d4397"
      }
     },
     "metadata": {},
     "output_type": "display_data"
    },
    {
     "name": "stdout",
     "output_type": "stream",
     "text": [
      "\n"
     ]
    },
    {
     "data": {
      "application/vnd.jupyter.widget-view+json": {
       "model_id": "5832a4133e08464bbb708b343468ef24"
      }
     },
     "metadata": {},
     "output_type": "display_data"
    },
    {
     "name": "stdout",
     "output_type": "stream",
     "text": [
      "\n"
     ]
    }
   ],
   "source": [
    "contexts = load_contexts(test_words)"
   ]
  },
  {
   "cell_type": "code",
   "execution_count": 34,
   "metadata": {},
   "outputs": [
    {
     "name": "stdout",
     "output_type": "stream",
     "text": [
      "строительство - 714525\n",
      "двор - 763115\n",
      "завод - 700710\n",
      "автомобиль - 710064\n",
      "самолет - 643014\n",
      "стена - 890301\n",
      "улица - 1474634\n",
      "дорога - 1439666\n",
      "площадь - 785881\n",
      "окно - 1100464\n",
      "квартира - 1290695\n",
      "ученый - 821234\n",
      "специалист - 985512\n",
      "исследование - 1078274\n",
      "институт - 1126771\n",
      "наука - 1129321\n",
      "школа - 1328283\n",
      "знание - 715813\n",
      "технология - 725518\n",
      "факт - 985552\n",
      "фирма - 824819\n",
      "руководитель - 937947\n",
      "начальник - 874389\n",
      "договор - 586295\n",
      "директор - 972428\n",
      "рабочий - 999005\n",
      "экономика - 847836\n",
      "министр - 787955\n",
      "регион - 814441\n",
      "гражданин - 927883\n",
      "политика - 1119327\n",
      "служба - 1073530\n",
      "партия - 1076830\n",
      "федерация - 779435\n",
      "общественный - 942162\n",
      "национальный - 945614\n",
      "мировой - 1092447\n",
      "экономический - 1104877\n",
      "социальный - 1116183\n",
      "федеральный - 883047\n",
      "музыка - 742581\n",
      "писатель - 773532\n",
      "сцена - 821440\n",
      "спектакль - 679510\n",
      "картина - 949862\n",
      "искусство - 963705\n",
      "фильм - 855345\n",
      "культура - 1176744\n",
      "автор - 1453239\n",
      "театр - 1079531\n"
     ]
    }
   ],
   "source": [
    "for word in contexts.keys():\n",
    "    print(word + \" - \" + str(len(contexts[word])))"
   ]
  },
  {
   "cell_type": "markdown",
   "metadata": {},
   "source": [
    "### Стопслова"
   ]
  },
  {
   "cell_type": "code",
   "execution_count": 15,
   "metadata": {
    "collapsed": true
   },
   "outputs": [],
   "source": [
    "STOPS = read_words(\"data/stopwords.txt\")"
   ]
  },
  {
   "cell_type": "markdown",
   "metadata": {},
   "source": [
    "### Создаем облака слов"
   ]
  },
  {
   "cell_type": "code",
   "execution_count": 16,
   "metadata": {
    "collapsed": true
   },
   "outputs": [],
   "source": [
    "def getFrequencyDictForText(sents, w):\n",
    "    fullTermsDict = multidict.MultiDict()\n",
    "    tmpDict = {}\n",
    "\n",
    "    # making dict for counting frequencies\n",
    "    for word in sents:\n",
    "        if word not in STOPS and word != w and not w.startswith(word) and not word.isdigit():                \n",
    "            val = tmpDict.get(word,0)\n",
    "            tmpDict[word] = val+1\n",
    "    for key in tmpDict:\n",
    "        fullTermsDict.add(key,tmpDict[key])\n",
    "    return fullTermsDict\n",
    "\n",
    "\n",
    "\n",
    "def Cloud(w, dic):    \n",
    "    wc = WordCloud(background_color=\"white\", max_words=100)\n",
    "    # generate word cloud\n",
    "    wc.generate_from_frequencies(dic)\n",
    "    fig = plt.figure()\n",
    "\n",
    "    # show\n",
    "    plt.imshow(wc, interpolation=\"bilinear\")\n",
    "    plt.axis(\"off\")\n",
    "    #plt.show()\n",
    "    fig.savefig('pic/'+w+'.png') \n",
    "    plt.close(fig)\n",
    "    return wc.words_.keys()"
   ]
  },
  {
   "cell_type": "code",
   "execution_count": 87,
   "metadata": {},
   "outputs": [],
   "source": [
    "for word in contexts.keys():\n",
    "    sents = contexts[word]\n",
    "    dic = getFrequencyDictForText(sents, word)\n",
    "    definition = Cloud(word, dic)\n",
    "    write_in_txt(\"cloud_words/\"+word, definition)"
   ]
  },
  {
   "cell_type": "markdown",
   "metadata": {},
   "source": [
    "### Считываем словарные определения слов"
   ]
  },
  {
   "cell_type": "code",
   "execution_count": 8,
   "metadata": {
    "collapsed": true
   },
   "outputs": [],
   "source": [
    "dict_definitions = {}\n",
    "with open(\"data/definitions.tsv\", 'r', encoding='utf-8') as f:\n",
    "    lines = f.readlines()\n",
    "for line in lines:\n",
    "    content = line.strip('\\n').split('\\t')\n",
    "    word = content[0]\n",
    "    if word not in dict_definitions.keys():\n",
    "        dict_definitions[word] = []\n",
    "    definitions = content[1].split(';')\n",
    "    for definition in definitions:\n",
    "        defin = []\n",
    "        definition = definition.lower()\n",
    "        words = re.findall(\"\\w\\w+\", definition)\n",
    "        for w in words:\n",
    "            normal = morph.parse(w)[0].normal_form\n",
    "            if normal not in defin and normal not in STOPS:\n",
    "                defin.append(normal)\n",
    "        dict_definitions[word].append(defin)"
   ]
  },
  {
   "cell_type": "code",
   "execution_count": 9,
   "metadata": {
    "collapsed": true
   },
   "outputs": [],
   "source": [
    "dirs = os.walk('cloud_words/tf')\n",
    "clouds = {}\n",
    "for dirr in dirs:    \n",
    "    path = dirr[0] + '/'\n",
    "    files = dirr[2]\n",
    "    for file in files:\n",
    "        text = read_words(path + file)\n",
    "        clouds[file[0:-4]] = text"
   ]
  },
  {
   "cell_type": "code",
   "execution_count": 12,
   "metadata": {
    "collapsed": true
   },
   "outputs": [],
   "source": [
    "dict_definitions_norm = {}\n",
    "precision = {}\n",
    "recall = {}\n",
    "for word in dict_definitions.keys():\n",
    "    good = 0\n",
    "    dict_definitions_norm[word] = []\n",
    "    for definition in dict_definitions[word]:\n",
    "        for w in definition:\n",
    "            if w not in dict_definitions_norm[word]:\n",
    "                dict_definitions_norm[word].append(w)\n",
    "                if w in clouds[word]:\n",
    "                    good += 1\n",
    "    precision[word] = good/len(clouds[word])\n",
    "    recall[word] = good/len(def_words)\n",
    "write_in_json(\"data/precision_pure\", precision)\n",
    "write_in_json(\"data/recall_pure\", recall)"
   ]
  },
  {
   "cell_type": "markdown",
   "metadata": {},
   "source": [
    "#### Учитываем однокоренные слова"
   ]
  },
  {
   "cell_type": "code",
   "execution_count": 18,
   "metadata": {
    "collapsed": true
   },
   "outputs": [],
   "source": [
    "def common_letters(word1, word2):\n",
    "    n = 0\n",
    "    i = 0\n",
    "    for letter in word1:\n",
    "        if i > len(word2) - 1:\n",
    "            return n\n",
    "        if word2[i] == letter:\n",
    "            n +=1\n",
    "        else:\n",
    "            return n\n",
    "        i += 1\n",
    "    return n"
   ]
  },
  {
   "cell_type": "code",
   "execution_count": 19,
   "metadata": {},
   "outputs": [
    {
     "data": {
      "text/plain": [
       "9"
      ]
     },
     "execution_count": 19,
     "metadata": {},
     "output_type": "execute_result"
    }
   ],
   "source": [
    "common_letters(\"автомобил\", \"автомобильн\")"
   ]
  },
  {
   "cell_type": "code",
   "execution_count": 20,
   "metadata": {
    "collapsed": true
   },
   "outputs": [],
   "source": [
    "def have_same_root(word1, word2):\n",
    "    w1_stem = stemmer.stemWord(word1)\n",
    "    w2_stem = stemmer.stemWord(word2)\n",
    "    if w1_stem == w2_stem:\n",
    "        return True\n",
    "    comm = common_letters(w1_stem,w2_stem)\n",
    "    if comm < 4:\n",
    "        return False\n",
    "    if comm > 6:\n",
    "        return True\n",
    "    diff = abs(len(max(w1_stem,w2_stem))-comm)        \n",
    "    if diff > comm or diff > 2:\n",
    "        return False\n",
    "    return True"
   ]
  },
  {
   "cell_type": "code",
   "execution_count": 114,
   "metadata": {
    "collapsed": true
   },
   "outputs": [],
   "source": [
    "with open(\"data/test_same_root.tsv\",\"w\",encoding=\"utf-8\") as f:\n",
    "    f.write(\"word1\\tword2\\tmethod_result\\tmanual_result\\n\")\n",
    "    for word in dict_definitions.keys():\n",
    "        for w_dict in dict_definitions_norm[word]:\n",
    "            for w_cl in clouds[word]:\n",
    "                res = have_same_root(w_dict, w_cl)\n",
    "                comm = common_letters(w_dict,w_cl)\n",
    "                if comm > 2:\n",
    "                    manual = True\n",
    "                else:\n",
    "                    manual = False\n",
    "                f.write(\"{0}\\t{1}\\t{2}\\t{3}\\n\".format(w_dict,w_cl,res,manual))"
   ]
  },
  {
   "cell_type": "markdown",
   "metadata": {},
   "source": [
    "Нахождение однокоренных слов (не считая приставочного образования):\n",
    "\n",
    "Точность - 141/151 = 93%\n",
    "\n",
    "Полнота - 141/181 = 78%\n",
    "\n",
    "Всего пар - 41304"
   ]
  },
  {
   "cell_type": "code",
   "execution_count": 115,
   "metadata": {
    "collapsed": true
   },
   "outputs": [],
   "source": [
    "precision = {}\n",
    "recall = {}\n",
    "for word in dict_definitions.keys():\n",
    "    good = 0\n",
    "    for w_dict in dict_definitions_norm[word]:\n",
    "        if w_dict in clouds[word]:\n",
    "            good += 1\n",
    "        else:\n",
    "            for w_cl in clouds[word]:             \n",
    "                if have_same_root(w_dict, w_cl):                \n",
    "                    good += 1\n",
    "                    break\n",
    "    precision[word] = good/len(clouds[word])\n",
    "    recall[word] = good/len(def_words)\n",
    "write_in_json(\"data/precision_root\", precision)\n",
    "write_in_json(\"data/recall_root\", recall)"
   ]
  },
  {
   "cell_type": "markdown",
   "metadata": {},
   "source": [
    "### Находим синонимы с помощью word2vec"
   ]
  },
  {
   "cell_type": "code",
   "execution_count": 22,
   "metadata": {},
   "outputs": [],
   "source": [
    "model = KeyedVectors.load_word2vec_format(paths._word2vec-model_, binary=False)"
   ]
  },
  {
   "cell_type": "code",
   "execution_count": 29,
   "metadata": {
    "collapsed": true
   },
   "outputs": [],
   "source": [
    "test_words_pos = read_words('data/sem_groups_pos.txt')"
   ]
  },
  {
   "cell_type": "code",
   "execution_count": 72,
   "metadata": {},
   "outputs": [
    {
     "name": "stdout",
     "output_type": "stream",
     "text": [
      "строительство_NOUN\n",
      "постройка 0.7203490734100342\n",
      "возведение 0.7086209058761597\n",
      "достройка 0.6921594738960266\n",
      "проектирование 0.6495847702026367\n",
      "достройкий 0.6223522424697876\n",
      "обустройство 0.6194686889648438\n",
      "проектировка 0.6163986325263977\n",
      "строить 0.6018748879432678\n",
      "сооружение 0.601773738861084\n",
      "сооружаемый 0.5950428247451782\n",
      "строиться 0.5921915769577026\n",
      "переоборудований 0.5788644552230835\n",
      "достраивать 0.5760956406593323\n",
      "реконструкция 0.5760175585746765\n",
      "асфальтирование 0.5702623724937439\n",
      "тэо 0.5560262203216553\n",
      "сооружать 0.5503777861595154\n",
      "возводиться 0.5471711754798889\n",
      "сооружаться 0.5437153577804565\n",
      "достроить 0.5435565114021301\n",
      "обустройстве 0.5395413637161255\n",
      "\n",
      "\n",
      "двор_NOUN\n",
      "бобыльский 0.5845100283622742\n",
      "бобыльская 0.578295886516571\n",
      "помещиковый 0.546909749507904\n",
      "конюшня 0.5417752265930176\n",
      "вотчинников 0.5146950483322144\n",
      "хлевушка 0.511130690574646\n",
      "сарай 0.509268581867218\n",
      "некрестьянский 0.5079385042190552\n",
      "конюшать 0.5075098276138306\n",
      "хлева 0.5054159760475159\n",
      "покои 0.5047828555107117\n",
      "мазанковый 0.5037234425544739\n",
      "биюк 0.49926504492759705\n",
      "бездворный 0.49746987223625183\n",
      "конопляник 0.4973587691783905\n",
      "проулок 0.4952273368835449\n",
      "ижора 0.4926470220088959\n",
      "мыльня 0.49252015352249146\n",
      "плетневой 0.4921855628490448\n",
      "спмд 0.4920037090778351\n",
      "харчевень 0.4915853440761566\n",
      "\n",
      "\n",
      "завод_NOUN\n",
      "фабрика 0.7618327140808105\n",
      "заводемик 0.7579349279403687\n",
      "чугунолитейный 0.7241257429122925\n",
      "комбинат 0.7000427842140198\n",
      "машиностроительный 0.6905413866043091\n",
      "паровозостроительный 0.684369683265686\n",
      "станкостроительный 0.6775987148284912\n",
      "радиозаводе 0.6662247776985168\n",
      "литейный 0.6621553301811218\n",
      "маслоэкстракционный 0.6582602858543396\n",
      "электроламповый 0.6575166583061218\n",
      "электромашиностроительный 0.6563862562179565\n",
      "мыловаренный 0.6563175320625305\n",
      "радиозавод 0.655440628528595\n",
      "чугуноплавильный 0.6532261371612549\n",
      "предприятие 0.6527263522148132\n",
      "автозавод 0.6517978310585022\n",
      "приборостроительный 0.6488651037216187\n",
      "вагоностроительный 0.6481865644454956\n",
      "машзавод 0.6479210257530212\n",
      "\n",
      "\n",
      "автомобиль_NOUN\n",
      "легковой 0.8185524344444275\n",
      "мотоцикл 0.8099859952926636\n",
      "внедорожник 0.7923656702041626\n",
      "грузовик 0.7763413190841675\n",
      "авто 0.7610709071159363\n",
      "машина 0.7448693513870239\n",
      "пикап 0.740990936756134\n",
      "джип 0.711125373840332\n",
      "микроавтобус 0.7091065049171448\n",
      "суперкар 0.7081323862075806\n",
      "лимузин 0.7049686312675476\n",
      "полноприводный 0.7003836631774902\n",
      "ваз 0.694908082485199\n",
      "форды 0.6944707036018372\n",
      "минивен 0.6880096793174744\n",
      "спорткар 0.6860682964324951\n",
      "автомашина 0.6856799721717834\n",
      "минивэна 0.6852061152458191\n",
      "иномарка 0.6768413782119751\n",
      "родстер 0.6750094294548035\n",
      "фордов 0.6747346520423889\n",
      "вседорожник 0.6740660667419434\n",
      "минивэн 0.6738553047180176\n",
      "кабриолет 0.6717187762260437\n",
      "хэтчбэк 0.6703028082847595\n",
      "болид 0.6688256859779358\n",
      "малолитражка 0.6679744720458984\n",
      "\n",
      "\n",
      "самолет_NOUN\n",
      "вертолет 0.8183448314666748\n",
      "бомбардировщик 0.7968616485595703\n",
      "авиалайнер 0.79520583152771\n",
      "истребитель 0.7716560959815979\n",
      "легкомоторный 0.7308295369148254\n",
      "гидросамолет 0.730457603931427\n",
      "двухмоторный 0.7286286354064941\n",
      "ту 0.7253068089485168\n",
      "биплан 0.717828631401062\n",
      "гидросамолвать 0.715262770652771\n",
      "триплан 0.7087522149085999\n",
      "лайнер 0.7082962989807129\n",
      "одномоторный 0.7020106315612793\n",
      "планер 0.6936609148979187\n",
      "бомбардировщикий 0.6898994445800781\n",
      "боинг 0.6891347169876099\n",
      "\n",
      "\n",
      "стена_NOUN\n",
      "стенетраница 0.7572296261787415\n",
      "стентраница 0.6982495188713074\n",
      "простенок 0.6470285058021545\n",
      "ограда 0.6300954222679138\n",
      "побеленный 0.6154131889343262\n",
      "простенка 0.6103897094726562\n",
      "потолок 0.6101210117340088\n",
      "забор 0.609144389629364\n",
      "оштукатуренный 0.6003082990646362\n",
      "штукатурка 0.5974979400634766\n",
      "сводчавать 0.5933854579925537\n",
      "оград 0.5925384163856506\n",
      "побелать 0.5892629027366638\n",
      "дувал 0.5869691371917725\n",
      "крылец 0.5865280628204346\n",
      "бойница 0.5829668641090393\n",
      "обнесать 0.5820693373680115\n",
      "портика 0.5811303853988647\n",
      "вмуровать 0.580586314201355\n",
      "оштукатурять 0.5798394680023193\n",
      "оштукатурить 0.5797491669654846\n",
      "прясло 0.578707218170166\n",
      "парапевать 0.578522264957428\n",
      "цоколя 0.5783253312110901\n",
      "\n",
      "\n",
      "улица_NOUN\n",
      "переулок 0.7799070477485657\n",
      "проспект 0.7219850420951843\n",
      "бульвар 0.6729438304901123\n",
      "челюскинцев 0.6725618839263916\n",
      "проспектай 0.6530517935752869\n",
      "звериницкий 0.6416552662849426\n",
      "набережная 0.6374808549880981\n",
      "привокзальный 0.6355516314506531\n",
      "вокзальный 0.6312732696533203\n",
      "перекресток 0.631135880947113\n",
      "зегель 0.6271454691886902\n",
      "стахановская 0.6250695586204529\n",
      "стромынк 0.623374879360199\n",
      "розыбакиев 0.6230929493904114\n",
      "сквер 0.6203207969665527\n",
      "проспент 0.6186909079551697\n",
      "новолесный 0.6181577444076538\n",
      "\n",
      "\n",
      "дорога_NOUN\n",
      "автострада 0.6104869246482849\n",
      "железный 0.60713130235672\n",
      "узкоколейка 0.5975212454795837\n",
      "асфальтированный 0.5859323740005493\n",
      "автотрассый 0.5787307024002075\n",
      "объездин 0.5770425200462341\n",
      "наезженный 0.5734090805053711\n",
      "шоссе 0.5720272064208984\n",
      "трансмонгольский 0.5717993974685669\n",
      "проселка 0.5717551112174988\n",
      "рокадный 0.5704233050346375\n",
      "магистраль 0.5675448775291443\n",
      "автотрасс 0.5674726366996765\n",
      "автодорог 0.5661662220954895\n",
      "большак 0.5597050786018372\n",
      "асфальтировать 0.5596910715103149\n",
      "\n",
      "\n",
      "площадь_NOUN\n",
      "пловек 0.5930596590042114\n",
      "сквер 0.5378940105438232\n",
      "застроенный 0.508813738822937\n",
      "гектар 0.4807303845882416\n",
      "дунам 0.4760183095932007\n",
      "бульвар 0.4745321273803711\n",
      "абельмановский 0.4681053161621094\n",
      "\n",
      "\n",
      "окно_NOUN\n",
      "окошко 0.8655261993408203\n",
      "оконце 0.7578647136688232\n",
      "форточка 0.7300518751144409\n",
      "оконный 0.7183618545532227\n",
      "окнотец 0.7094354629516602\n",
      "дверь 0.6977155804634094\n",
      "балкон 0.6960538029670715\n",
      "окошечко 0.6874293684959412\n",
      "фрамуга 0.6843523383140564\n",
      "подоконник 0.6838205456733704\n",
      "ставень 0.6823164224624634\n",
      "проем 0.6815714240074158\n",
      "настежь 0.6744527816772461\n",
      "зарешеченный 0.6650280356407166\n",
      "окошечка 0.6538832187652588\n",
      "ставня 0.6496257185935974\n",
      "балконный 0.6487476825714111\n",
      "задердывать 0.6475995182991028\n",
      "оконец 0.643999457359314\n",
      "оконница 0.6435431241989136\n",
      "занавеска 0.6433063745498657\n",
      "проема 0.6425538063049316\n",
      "застеклять 0.6410778164863586\n",
      "зарешечать 0.6383956670761108\n",
      "фортка 0.6368726491928101\n",
      "зарешечять 0.629757285118103\n",
      "веранда 0.6292878985404968\n",
      "\n",
      "\n",
      "квартира_NOUN\n",
      "двухкомнатный 0.7138927578926086\n",
      "трехкомнатный 0.7117536664009094\n",
      "однокомнатная 0.7105763554573059\n",
      "комната 0.7017168998718262\n",
      "пятикомнатный 0.678034245967865\n",
      "комнатка 0.6651850342750549\n",
      "однокомнатный 0.6538068652153015\n",
      "четырехкомнатный 0.6511663198471069\n",
      "комнатенка 0.6493219137191772\n",
      "комнатушка 0.6468467712402344\n",
      "двухкомнатная 0.6466953754425049\n",
      "коммуналка 0.6466678977012634\n",
      "дом 0.6347431540489197\n",
      "апартамент 0.624944806098938\n",
      "особняк 0.6222485303878784\n",
      "жилплощадь 0.6212693452835083\n",
      "спальня 0.6159525513648987\n",
      "меблированный 0.6156988143920898\n",
      "дача 0.6101773381233215\n",
      "жилец 0.6090850830078125\n",
      "полдом 0.6043499708175659\n",
      "каморка 0.5970883965492249\n",
      "\n",
      "\n",
      "ученый_NOUN\n",
      "исследователь 0.7067959904670715\n",
      "энциклопедист 0.6765110492706299\n",
      "биолог 0.6544226408004761\n",
      "математик 0.6532676815986633\n",
      "почвоведа 0.6529650688171387\n",
      "физик 0.6483117341995239\n",
      "теоретик 0.6393214464187622\n",
      "спектроскопист 0.6363217830657959\n",
      "лингвист 0.6321825385093689\n",
      "космолог 0.6307175755500793\n",
      "арменовед 0.6275467872619629\n",
      "радиохимик 0.626976728439331\n",
      "радиоастроном 0.6257692575454712\n",
      "ассириолог 0.6257395148277283\n",
      "логик 0.6235572695732117\n",
      "органик 0.6228877305984497\n",
      "ботаник 0.6215137243270874\n",
      "востоковеда 0.6195639371871948\n",
      "философ 0.6192850470542908\n",
      "биогеограф 0.618873655796051\n",
      "генетик 0.6150796413421631\n",
      "нейрофизиолог 0.613493800163269\n",
      "кавказовед 0.6130391359329224\n",
      "астроном 0.6118271946907043\n",
      "\n",
      "\n",
      "специалист_NOUN\n",
      "эксперт 0.685918390750885\n",
      "патентовед 0.5988898277282715\n",
      "исследователь 0.5837778449058533\n",
      "ученый 0.5819452404975891\n",
      "знаток 0.5758724212646484\n",
      "методолог 0.5744382739067078\n",
      "логист 0.5744088292121887\n",
      "радиоспециалист 0.5686348080635071\n",
      "практик 0.568174421787262\n",
      "высококвалифицированный 0.5663569569587708\n",
      "аналитик 0.5605262517929077\n",
      "почвоведа 0.5605181455612183\n",
      "нейропсихолог 0.5496352314949036\n",
      "аэродинамик 0.546574056148529\n",
      "оборонщик 0.5451241135597229\n",
      "дендролог 0.5412760376930237\n",
      "эколога 0.5412384271621704\n",
      "арменовед 0.539178729057312\n",
      "сексопатолог 0.5355784296989441\n",
      "спектроскопист 0.5338954329490662\n",
      "эпиграфивать 0.5334580540657043\n",
      "турбостроение 0.5321726202964783\n",
      "теоретик 0.5318586230278015\n",
      "\n",
      "\n",
      "исследование_NOUN\n",
      "изучение 0.7692946791648865\n",
      "анализ 0.7002060413360596\n",
      "изыскание 0.695905327796936\n",
      "изучений 0.6264054775238037\n",
      "молекулярно 0.6186869740486145\n",
      "обследование 0.6174008250236511\n",
      "метаанализ 0.6127499938011169\n",
      "картирование 0.6080482006072998\n"
     ]
    },
    {
     "name": "stdout",
     "output_type": "stream",
     "text": [
      "нейровизуализация 0.6031122207641602\n",
      "нанохимия 0.5994465947151184\n",
      "астробиологический 0.5986507534980774\n",
      "изучения 0.5946413278579712\n",
      "когортный 0.5942293405532837\n",
      "типирование 0.5940755605697632\n",
      "фармакогенетика 0.5938138365745544\n",
      "молекулярный 0.5927599668502808\n",
      "космохимия 0.5912656188011169\n",
      "нефтегазопоисковый 0.5900338888168335\n",
      "нейрохимия 0.5898922681808472\n",
      "радиометрия 0.5882472395896912\n",
      "эксперимент 0.5866504907608032\n",
      "палеоботанический 0.5863620042800903\n",
      "магниторазведка 0.585820198059082\n",
      "\n",
      "\n",
      "институт_NOUN\n",
      "техникум 0.619234025478363\n",
      "нии 0.5796747207641602\n",
      "факультет 0.5750071406364441\n",
      "университет 0.5683900117874146\n",
      "сельхозинститать 0.5646088123321533\n",
      "мэси 0.5576006770133972\n",
      "фтиан 0.5558115839958191\n",
      "техникумый 0.5513932704925537\n",
      "лесгафт 0.5503175258636475\n",
      "зооинженерный 0.5475377440452576\n",
      "госуниверситать 0.5460074543952942\n",
      "физвоспитание 0.5443258881568909\n",
      "аспирантура 0.542931854724884\n",
      "мопи 0.5415215492248535\n",
      "лпи 0.5411009788513184\n",
      "тти 0.540136992931366\n",
      "лгпи 0.5392363667488098\n",
      "фгбн 0.5369958877563477\n",
      "мгюа 0.536095380783081\n",
      "мпгу 0.5355388522148132\n",
      "\n",
      "\n",
      "наука_NOUN\n",
      "естествознание 0.6157867312431335\n",
      "серугой 0.5878768563270569\n",
      "философия 0.5623763203620911\n",
      "науковедение 0.5594856142997742\n",
      "государствоведение 0.5580159425735474\n",
      "манпо 0.5536465644836426\n",
      "хабилитированный 0.551070511341095\n",
      "кибернетика 0.5501898527145386\n",
      "искусствоведение 0.5495147705078125\n",
      "человековедение 0.5484962463378906\n",
      "религиоведений 0.5437183976173401\n",
      "терминоведение 0.54097580909729\n",
      "религиоведения 0.5406109690666199\n",
      "геоловек 0.540209174156189\n",
      "\n",
      "\n",
      "школа_NOUN\n",
      "интернать 0.6416199803352356\n",
      "интернат 0.6352390050888062\n",
      "семилетка 0.6347371339797974\n",
      "профтехучилище 0.6308109760284424\n",
      "спецшкола 0.6268568634986877\n",
      "девятилетка 0.6241440773010254\n",
      "общеобразовательный 0.6226249933242798\n",
      "интернатый 0.6183346509933472\n",
      "десятилетка 0.6049751043319702\n",
      "гимназия 0.6045044660568237\n",
      "училище 0.5947591662406921\n",
      "трехклассный 0.5832260251045227\n",
      "прогимназие 0.5809707045555115\n",
      "среднеобразовательный 0.577267587184906\n",
      "школовек 0.5758936405181885\n",
      "педучилище 0.5722796320915222\n",
      "\n",
      "\n",
      "знание_NOUN\n",
      "познание 0.7666762471199036\n",
      "постижение 0.6058005690574646\n",
      "навык 0.5964867472648621\n",
      "познавание 0.5845785140991211\n",
      "систематизируть 0.5776017308235168\n",
      "эрудиция 0.5743022561073303\n",
      "энциклопедическо 0.570556640625\n",
      "интуиции 0.570472776889801\n",
      "общественнонаучный 0.5702974200248718\n",
      "понимание 0.5695448517799377\n",
      "психометрия 0.5594325065612793\n",
      "мышление 0.5541783571243286\n",
      "умозрений 0.5540168285369873\n",
      "навыки 0.5536482334136963\n",
      "сверхчувстветь 0.5529240369796753\n",
      "постижимый 0.5528408288955688\n",
      "осведомленность 0.5515298843383789\n",
      "уразумение 0.5514763593673706\n",
      "всезнание 0.5493128299713135\n",
      "доскональной 0.5467932820320129\n",
      "образованность 0.5455374121665955\n",
      "познанный 0.5443927645683289\n",
      "богопознания 0.5443493723869324\n",
      "почерпнувать 0.5438929796218872\n",
      "\n",
      "\n",
      "технология_NOUN\n",
      "геотехнология 0.6495090126991272\n",
      "малоотходный 0.6468283534049988\n",
      "ресурсосберегать 0.6444675922393799\n",
      "нанокомпозит 0.6347162127494812\n",
      "биомедицин 0.6270784735679626\n",
      "энергосберегать 0.6221412420272827\n",
      "фотоник 0.6201663017272949\n",
      "наноструктурированный 0.6137964129447937\n",
      "наноструктурный 0.6114189028739929\n",
      "нанотехнология 0.609349250793457\n",
      "сапр 0.6085869669914246\n",
      "наноматериал 0.6084496378898621\n",
      "фильмопроизводство 0.6042760610580444\n",
      "решение 0.6040832996368408\n",
      "решений 0.6036418080329895\n",
      "нанонаука 0.6009242534637451\n",
      "наукоемкой 0.6004595756530762\n",
      "безотходный 0.5964208841323853\n",
      "модифицирование 0.5946540832519531\n",
      "\n",
      "\n",
      "факт_NOUN\n",
      "обстоятельство 0.587563693523407\n",
      "необоснованности 0.5678548812866211\n",
      "недостоверность 0.5561885237693787\n",
      "неопровержимый 0.5420426726341248\n",
      "доказательство 0.5407627820968628\n",
      "неправомерность 0.5380098223686218\n",
      "виновности 0.535873532295227\n",
      "рассказываемый 0.5331828594207764\n",
      "констатирование 0.5300226211547852\n",
      "непроверяемый 0.5296200513839722\n",
      "факвать 0.5255054831504822\n",
      "недоказать 0.524207353591919\n",
      "недоказуть 0.5192788243293762\n",
      "констатирований 0.5146102905273438\n",
      "правдоподобнодать 0.5121980309486389\n",
      "документом 0.5113240480422974\n",
      "необъяснять 0.509984016418457\n",
      "малоубедительный 0.5089529752731323\n",
      "обратное 0.5079849362373352\n",
      "неслучайность 0.5076486468315125\n",
      "недоказуемый 0.5059191584587097\n",
      "неопровержимость 0.5044208765029907\n",
      "домысло 0.50294029712677\n",
      "шокирующий 0.5021746754646301\n",
      "\n",
      "\n",
      "фирма_NOUN\n",
      "компания 0.7603179812431335\n",
      "концерн 0.6935642957687378\n",
      "аэроспейс 0.6266477108001709\n",
      "корпорация 0.6206587553024292\n",
      "автоконцерн 0.6104997396469116\n",
      "концерна 0.6057487726211548\n",
      "дайнемикс 0.6026609539985657\n",
      "корпорейшн 0.602389931678772\n",
      "гмбх 0.6023578643798828\n",
      "системз 0.5903496146202087\n",
      "даймлер 0.5891868472099304\n",
      "кинофирма 0.5875102877616882\n",
      "\n",
      "\n",
      "руководитель_NOUN\n",
      "директор 0.6098147630691528\n",
      "соруководитель 0.6016175150871277\n",
      "координатор 0.5977818965911865\n",
      "начальник 0.5957114100456238\n",
      "возглавлять 0.5898048877716064\n",
      "организатор 0.5857668519020081\n",
      "лидер 0.5704470276832581\n",
      "замруководителя 0.5700618028640747\n",
      "замдиректора 0.5666322708129883\n",
      "председатель 0.5616908669471741\n",
      "замначальника 0.5497764348983765\n",
      "содиректор 0.5494804978370667\n",
      "консультант 0.5416127443313599\n",
      "сопредседатели 0.5410569310188293\n",
      "глава 0.53650963306427\n",
      "сопредседатель 0.5289320349693298\n",
      "заместитель 0.5284879803657532\n",
      "курировать 0.5283574461936951\n",
      "сотрудник 0.526640772819519\n",
      "\n",
      "\n",
      "начальник_NOUN\n",
      "замначальника 0.7331021428108215\n",
      "заведующий 0.6604659557342529\n",
      "делопроизводителя 0.6500423550605774\n",
      "политчасть 0.6171264052391052\n",
      "военкомый 0.6164395213127136\n",
      "военком 0.616284966468811\n",
      "заместитель 0.6145854592323303\n",
      "военпред 0.6097721457481384\n",
      "замя 0.6068658828735352\n",
      "комендант 0.604324460029602\n",
      "военк 0.6001428961753845\n",
      "руководитель 0.595711350440979\n",
      "врид 0.5949721932411194\n",
      "командир 0.5921005010604858\n",
      "инспектор 0.5915013551712036\n",
      "командующий 0.5857024788856506\n",
      "командовать 0.5854483842849731\n",
      "военкий 0.5825532674789429\n",
      "автобронетанковой 0.5789554715156555\n",
      "прикомандировывать 0.5776588916778564\n",
      "заведывающий 0.577426016330719\n",
      "\n",
      "\n",
      "договор_NOUN\n",
      "соглашение 0.7740710377693176\n",
      "денонсировать 0.6356692314147949\n",
      "подписание 0.6276916265487671\n",
      "пакт 0.6231099367141724\n",
      "кардисский 0.6183897256851196\n",
      "прелиминарный 0.6090108752250671\n",
      "ненападение 0.6041942834854126\n",
      "соглашений 0.6026005148887634\n",
      "неравноправный 0.6011889576911926\n",
      "ратифицировать 0.5995482206344604\n",
      "туркманчайский 0.5995261669158936\n",
      "тявзинский 0.5987426042556763\n",
      "сделка 0.5969075560569763\n",
      "перемирие 0.5961605310440063\n",
      "цессия 0.5901796817779541\n",
      "подряда 0.5889564156532288\n",
      "соглашения 0.5862066149711609\n",
      "симоносекский 0.5840921998023987\n",
      "бредский 0.5814390778541565\n",
      "симодский 0.5804843306541443\n",
      "гюлистанский 0.5801090002059937\n",
      "\n",
      "\n",
      "директор_NOUN\n",
      "замдиректора 0.7168883085250854\n",
      "гендиректор 0.6655435562133789\n",
      "замгендиректора 0.6424129009246826\n",
      "председатель 0.6203323006629944\n",
      "руководитель 0.6098147034645081\n",
      "ректор 0.6046056151390076\n",
      "неисполнительный 0.5937741994857788\n",
      "содиректор 0.5854389071464539\n",
      "проректор 0.5819337368011475\n",
      "соучредитель 0.5808826088905334\n",
      "заведующий 0.5731788277626038\n",
      "распорядитель 0.5715228915214539\n",
      "начальник 0.5704560279846191\n",
      "заведующая 0.5634168386459351\n",
      "содиректорый 0.561080813407898\n",
      "консультант 0.548613965511322\n",
      "роспром 0.5458460450172424\n",
      "\n",
      "\n",
      "рабочий_NOUN\n",
      "бастовать 0.6485978960990906\n",
      "трудящийся 0.6372341513633728\n",
      "чернорабочий 0.624212384223938\n",
      "забастовщик 0.619831919670105\n",
      "служащий 0.617085874080658\n",
      "мастеровой 0.6092941164970398\n",
      "горнорабочий 0.5969201326370239\n",
      "бастующий 0.5947577357292175\n",
      "штрейкбрехер 0.590396523475647\n",
      "текстильщица 0.5899445414543152\n",
      "ремесленник 0.587265133857727\n",
      "пролетарий 0.5861373543739319\n",
      "углекоп 0.5803852677345276\n",
      "ткачий 0.5770902037620544\n",
      "сезонник 0.5744959712028503\n",
      "крестьянин 0.5730960369110107\n",
      "ткач 0.569246768951416\n",
      "отходник 0.56761234998703\n",
      "малоквалифицированный 0.560937225818634\n",
      "пролетариат 0.5570759177207947\n",
      "\n",
      "\n",
      "экономика_NOUN\n",
      "макроэкономика 0.643596887588501\n",
      "макроэкономический 0.6028005480766296\n",
      "отрасль 0.6019659042358398\n",
      "предпринимательство 0.6000823974609375\n",
      "госуправление 0.5979776382446289\n",
      "микроэкономик 0.5924468040466309\n",
      "государствоведение 0.5870729684829712\n",
      "импортозамещений 0.5799242854118347\n",
      "транснационализация 0.5780445337295532\n",
      "социология 0.5769045352935791\n",
      "промышленность 0.5655330419540405\n",
      "микроэкономический 0.5624498128890991\n",
      "инвестиция 0.5617245435714722\n",
      "многоукладный 0.5599433183670044\n",
      "рынков 0.5545887351036072\n",
      "финансы 0.5529760718345642\n",
      "госсектор 0.5497233271598816\n"
     ]
    },
    {
     "name": "stdout",
     "output_type": "stream",
     "text": [
      "макроэкономической 0.5482989549636841\n",
      "политология 0.5464417934417725\n",
      "\n",
      "\n",
      "министр_NOUN\n",
      "замминистра 0.7025718688964844\n",
      "нарком 0.697770357131958\n",
      "рейхсминистра 0.6573278307914734\n",
      "рейхсминистр 0.6401572823524475\n",
      "еврокомиссар 0.6263778805732727\n",
      "финансы 0.6105955839157104\n",
      "комиссариатый 0.6069900989532471\n",
      "\n",
      "\n",
      "регион_NOUN\n",
      "макрорегион 0.5761770009994507\n",
      "тахуа 0.5682535171508789\n",
      "марадя 0.5525565147399902\n",
      "тибести 0.5399667620658875\n",
      "дальний 0.5370780825614929\n",
      "мокегуа 0.5361936688423157\n",
      "пуно 0.5259349942207336\n",
      "перигора 0.5212095975875854\n",
      "молизя 0.5207520127296448\n",
      "романья 0.5191491842269897\n",
      "сарбур 0.5179382562637329\n",
      "страна 0.5159783959388733\n",
      "агадо 0.5129067301750183\n",
      "висайджа 0.5125735402107239\n",
      "\n",
      "\n",
      "гражданин_NOUN\n",
      "граждан 0.6460057497024536\n",
      "негражданин 0.5754658579826355\n",
      "апатрид 0.5532790422439575\n",
      "неграждавать 0.5448923110961914\n",
      "налогоплательщик 0.5389751195907593\n",
      "подданный 0.533065676689148\n",
      "согражданин 0.530714750289917\n",
      "иностранец 0.5258713960647583\n",
      "неграждан 0.524968147277832\n",
      "горожанин 0.5218350887298584\n",
      "обыватель 0.5145061612129211\n",
      "соотечественников 0.5117772817611694\n",
      "правоспособный 0.5077304244041443\n",
      "равноправие 0.49889707565307617\n",
      "киргизстанец 0.4945230484008789\n",
      "усыновитель 0.4918600022792816\n",
      "автовладелец 0.48767101764678955\n",
      "водопользователь 0.4856032431125641\n",
      "\n",
      "\n",
      "политика_NOUN\n",
      "централизаторский 0.5574660301208496\n",
      "дипломатия 0.5423902273178101\n",
      "либерализация 0.5377386212348938\n",
      "внешнеполитический 0.5372022390365601\n",
      "политический 0.536728024482727\n",
      "антиинфляционный 0.532663106918335\n",
      "денежный 0.5259374976158142\n",
      "экспансионистский 0.5251028537750244\n",
      "протекционизм 0.5242778658866882\n",
      "патернализм 0.5161516666412354\n",
      "неоконсерватор 0.5152859687805176\n",
      "финансы 0.5131008625030518\n",
      "изоляционизм 0.512539267539978\n",
      "идеология 0.5117530822753906\n",
      "дистанцирований 0.511279284954071\n",
      "реформу 0.5110955238342285\n",
      "консерватизм 0.5101100206375122\n",
      "деидеологизация 0.5097041130065918\n",
      "протекционистский 0.5042002201080322\n",
      "экспансионизм 0.5038557648658752\n",
      "диктата 0.5021361112594604\n",
      "кредитный 0.5016992688179016\n",
      "\n",
      "\n",
      "служба_NOUN\n",
      "службетраница 0.6272798776626587\n",
      "патрульно 0.5459471344947815\n",
      "службтраница 0.5323131680488586\n",
      "резервистский 0.5305010080337524\n",
      "несение 0.5081693530082703\n",
      "постовый 0.5078060626983643\n",
      "патрульть 0.498613178730011\n",
      "сверхсрочный 0.4922475516796112\n",
      "отслуживой 0.48116549849510193\n",
      "отслужить 0.47798630595207214\n",
      "фаненный 0.47199705243110657\n",
      "бундесвера 0.4678816795349121\n",
      "спецназй 0.4635229706764221\n",
      "призваться 0.4631899297237396\n",
      "должностей 0.45819735527038574\n",
      "рейхсвера 0.456062912940979\n",
      "военнослужащий 0.455617755651474\n",
      "чин 0.4525420367717743\n",
      "\n",
      "\n",
      "партия_NOUN\n",
      "правоцентристская 0.6149247884750366\n",
      "соцпартия 0.6042075157165527\n",
      "левоцентристский 0.602454662322998\n",
      "правоцентристский 0.6015485525131226\n",
      "левоцентристскать 0.6012121438980103\n",
      "христианско 0.593501627445221\n",
      "националистическать 0.5918673276901245\n",
      "фейн 0.582973062992096\n",
      "центристский 0.582838773727417\n",
      "реформистская 0.5823503136634827\n",
      "ндп 0.5820927023887634\n",
      "шинуй 0.5812690854072571\n",
      "мапам 0.5806822776794434\n",
      "синаспизмос 0.5799202919006348\n",
      "компартия 0.5798466801643372\n",
      "сдпготреть 0.5787779688835144\n",
      "соцпартие 0.5773651003837585\n",
      "\n",
      "\n",
      "федерация_NOUN\n",
      "конфедерация 0.587742805480957\n",
      "конфедерациий 0.586819589138031\n",
      "ассоциация 0.5769914984703064\n",
      "гандботь 0.5686999559402466\n",
      "игф 0.5586441159248352\n",
      "фивб 0.5527783036231995\n",
      "тхэквондо 0.5479386448860168\n",
      "еок 0.5476174354553223\n",
      "панамериканская 0.546768069267273\n",
      "флорботь 0.5437194108963013\n",
      "футзывать 0.5430517792701721\n",
      "кмас 0.5373245477676392\n",
      "аиба 0.5320139527320862\n",
      "\n",
      "\n",
      "общественный_ADJ\n",
      "социальный 0.5591249465942383\n",
      "законотворческая 0.5114632844924927\n",
      "градозащитный 0.494796484708786\n",
      "профсоюзный 0.49277886748313904\n",
      "религиозный 0.4882236123085022\n",
      "рапн 0.4861799478530884\n",
      "трезвеннический 0.4826674461364746\n",
      "непроизводствять 0.4821784794330597\n",
      "правомонархический 0.4775305688381195\n",
      "неправительственный 0.4775261878967285\n",
      "правотворческий 0.477348655462265\n",
      "неправительствять 0.4762434959411621\n",
      "культурный 0.4726216793060303\n",
      "\n",
      "\n",
      "национальный_ADJ\n",
      "общенациональный 0.5758239030838013\n",
      "нац 0.5331015586853027\n",
      "этнический 0.4752197265625\n",
      "республиканский 0.4751231074333191\n",
      "манитобский 0.46405524015426636\n",
      "всеиндийская 0.4601944386959076\n",
      "общеитальянский 0.4583769738674164\n",
      "общеарабский 0.4577766954898834\n",
      "этнопедагогика 0.4517415761947632\n",
      "панафриканский 0.4513442814350128\n",
      "норвежский 0.45128628611564636\n",
      "венесуэльская 0.4492311179637909\n",
      "общеевропейский 0.44659528136253357\n",
      "общеамериканский 0.44555455446243286\n",
      "ирландская 0.44259151816368103\n",
      "нарочанский 0.4422190189361572\n",
      "канберрский 0.44186681509017944\n",
      "берингия 0.44104647636413574\n",
      "\n",
      "\n",
      "мировой_ADJ\n",
      "иламский 0.5163922309875488\n",
      "общемировой 0.5153191685676575\n",
      "отечественный 0.49472418427467346\n",
      "эфиопский 0.47521448135375977\n",
      "общемировый 0.47450828552246094\n",
      "семинольский 0.47194260358810425\n",
      "общеевропейский 0.465764582157135\n",
      "деволюционный 0.45350468158721924\n",
      "вьетнамская 0.44967374205589294\n",
      "\n",
      "\n",
      "экономический_ADJ\n",
      "общеэкономический 0.6654661893844604\n",
      "макроэкономический 0.6463439464569092\n",
      "финансовый 0.6079362630844116\n",
      "геополитический 0.6047419905662537\n",
      "политика 0.5962575674057007\n",
      "микроэкономик 0.5892961025238037\n",
      "политэкономический 0.5870758295059204\n",
      "внешнеэкономический 0.5824661254882812\n",
      "макроэкономика 0.5823853611946106\n",
      "демографический 0.5815128684043884\n",
      "интеграции 0.5769003629684448\n",
      "макроэкономической 0.5744262933731079\n",
      "микроэкономический 0.5743439793586731\n",
      "валютно 0.5727034211158752\n",
      "энергобезопасность 0.5640217661857605\n",
      "финансовой 0.5629950165748596\n",
      "криминогять 0.5607094764709473\n",
      "техникский 0.5589349269866943\n",
      "социально 0.5536525249481201\n",
      "\n",
      "\n",
      "социальный_ADJ\n",
      "социокультурный 0.6232587695121765\n",
      "институциональный 0.5967501401901245\n",
      "социоэкономический 0.5788209438323975\n",
      "конструкционизм 0.5668268799781799\n",
      "стратификационный 0.5665050745010376\n",
      "общественный 0.5591248869895935\n",
      "этический 0.5570577383041382\n",
      "непроизводствять 0.556089460849762\n",
      "гендернать 0.5558322072029114\n",
      "миростроительство 0.5548335313796997\n",
      "фасилитация 0.5523903369903564\n",
      "социополитический 0.5522381663322449\n",
      "межличностный 0.5511568188667297\n",
      "этнонациональный 0.5457114577293396\n",
      "волонтерство 0.5435640811920166\n",
      "криминогять 0.5432454347610474\n",
      "биосоциальный 0.5423202514648438\n",
      "кросскультурный 0.5395429730415344\n",
      "экономический 0.538747251033783\n",
      "\n",
      "\n",
      "федеральный_ADJ\n",
      "росграница 0.5565885305404663\n",
      "роснедра 0.5511032342910767\n",
      "росрыболовство 0.534402072429657\n",
      "бундесрат 0.5251100659370422\n",
      "ространснадзор 0.5232616066932678\n",
      "закономя 0.509963870048523\n",
      "подведомственный 0.5092992186546326\n",
      "региональный 0.503350019454956\n",
      "антитрестовский 0.5027436017990112\n",
      "электроэнергетике 0.5009575486183167\n",
      "форарльберг 0.49767395853996277\n",
      "\n",
      "\n",
      "музыка_NOUN\n",
      "киномузыка 0.6475803852081299\n",
      "мелодия 0.6296541094779968\n",
      "джаз 0.6290748715400696\n",
      "пение 0.6040351390838623\n",
      "блюзый 0.5926917791366577\n",
      "мелодие 0.5922349095344543\n",
      "дабстепый 0.5867740511894226\n",
      "аранжировкий 0.5859416723251343\n",
      "музыкальный 0.5786284804344177\n",
      "шопен 0.5770959258079529\n",
      "песня 0.5768552422523499\n",
      "фанк 0.5761635899543762\n",
      "пьяццолла 0.5714468359947205\n",
      "аранжировка 0.5705289840698242\n",
      "меренгй 0.5703978538513184\n",
      "дэнс 0.5693796873092651\n",
      "реггей 0.5683294534683228\n",
      "инструментовкий 0.5681816935539246\n",
      "гамелан 0.5674113631248474\n",
      "композитор 0.5672324895858765\n",
      "\n",
      "\n",
      "писатель_NOUN\n",
      "поэт 0.7852035760879517\n",
      "прозаик 0.774966299533844\n",
      "литератор 0.730663001537323\n",
      "драматург 0.7265958189964294\n",
      "публицист 0.6987615823745728\n",
      "романист 0.6898960471153259\n",
      "новеллист 0.6837599277496338\n",
      "фантаст 0.6777044534683228\n",
      "композитор 0.6595593094825745\n",
      "поэтесса 0.653835654258728\n",
      "сатирик 0.6531915664672852\n",
      "эссеист 0.652964174747467\n",
      "реалист 0.6459210515022278\n",
      "модернист 0.6415097713470459\n",
      "прозаика 0.6384437680244446\n",
      "юморист 0.6348034739494324\n",
      "фантавать 0.6343069076538086\n",
      "эссеисвать 0.6334846615791321\n",
      "прозаики 0.6298859715461731\n",
      "филолог 0.6260510683059692\n",
      "литературоведалее 0.6229485273361206\n",
      "художник 0.6228184103965759\n",
      "\n",
      "\n",
      "сцена_NOUN\n",
      "сценетраница 0.6642925143241882\n",
      "подмостки 0.654439389705658\n",
      "просцениум 0.6010169982910156\n",
      "спектакль 0.5791519284248352\n",
      "кулиса 0.5788487195968628\n",
      "травиаты 0.571555495262146\n",
      "мизансцена 0.5688886642456055\n",
      "варьете 0.5686261057853699\n",
      "мизансцен 0.5603649020195007\n",
      "сцентраница 0.556536853313446\n",
      "дзеффирелли 0.5500107407569885\n",
      "парсифаля 0.5481301546096802\n",
      "интермедие 0.547814667224884\n",
      "репетироваться 0.5466719269752502\n",
      "буффонный 0.5428586006164551\n",
      "джульетту 0.541132926940918\n"
     ]
    },
    {
     "name": "stdout",
     "output_type": "stream",
     "text": [
      "авансцена 0.540576159954071\n",
      "ленкоме 0.5369424819946289\n",
      "пантомимный 0.5368208289146423\n",
      "олимпийского 0.5339697003364563\n",
      "федру 0.5301132798194885\n",
      "\n",
      "\n",
      "спектакль_NOUN\n",
      "пьеса 0.7186375260353088\n",
      "постановка 0.6939129829406738\n",
      "глаголин 0.6872420310974121\n",
      "ленкоме 0.6749526858329773\n",
      "мтюз 0.6714749932289124\n",
      "антрепризный 0.6704748272895813\n",
      "отелло 0.6704117059707642\n",
      "моноспектакль 0.6654964685440063\n",
      "театр 0.6649371981620789\n",
      "парсифаля 0.6617976427078247\n",
      "ганнеле 0.6591504216194153\n",
      "оперетту 0.6564608812332153\n",
      "антимиры 0.6556047201156616\n",
      "гостим 0.6532644629478455\n",
      "гедд 0.6500253677368164\n",
      "табакерке 0.6479624509811401\n",
      "многоактный 0.6474534869194031\n",
      "федру 0.6469331979751587\n",
      "ваню 0.6458554863929749\n",
      "тартюфа 0.6442620158195496\n",
      "гамлета 0.6434634923934937\n",
      "телеспектакл 0.6431136727333069\n",
      "\n",
      "\n",
      "картина_NOUN\n",
      "полотно 0.6363769769668579\n",
      "купальщицы 0.6019638776779175\n",
      "пейзаж 0.5847780108451843\n",
      "капричос 0.5828256011009216\n",
      "ботичелли 0.5793597102165222\n",
      "фреска 0.5746743083000183\n",
      "холст 0.5735470652580261\n",
      "автопортрет 0.5707827210426331\n",
      "фильм 0.5640882849693298\n",
      "тициан 0.5620896220207214\n",
      "джорджон 0.5605406165122986\n",
      "рембрандтовский 0.5597622394561768\n",
      "фрагонар 0.5584360361099243\n",
      "эскизй 0.5555588006973267\n",
      "\n",
      "\n",
      "искусство_NOUN\n",
      "изобразительный 0.695914089679718\n",
      "живопись 0.6017558574676514\n",
      "декоративно 0.5954054594039917\n",
      "киноискусство 0.5914438366889954\n",
      "фотоискусство 0.5857840180397034\n",
      "киноискусствый 0.5623451471328735\n",
      "медиаискусство 0.5567911267280579\n",
      "театроведение 0.5521386861801147\n",
      "мастерство 0.5442777276039124\n",
      "поэзия 0.5423380136489868\n",
      "хореографии 0.5412901043891907\n",
      "драматургия 0.5400637984275818\n",
      "ваяний 0.539448082447052\n",
      "культура 0.5321265459060669\n",
      "декорациоть 0.531039834022522\n",
      "\n",
      "\n",
      "фильм_NOUN\n",
      "кинофильм 0.824680745601654\n",
      "кинокартина 0.8010280728340149\n",
      "кинолента 0.7721467018127441\n",
      "кинолент 0.7307325005531311\n",
      "мультфильм 0.7128487825393677\n",
      "киноленвать 0.7087006568908691\n",
      "телефильм 0.690540075302124\n",
      "полнометражный 0.6880935430526733\n",
      "киносериал 0.6878826022148132\n",
      "пятисерийный 0.6650490164756775\n",
      "кинокомедия 0.6592283844947815\n",
      "шестисерийный 0.6583918929100037\n",
      "кинотрилогия 0.657575249671936\n",
      "кинороман 0.6531515121459961\n",
      "мелодрама 0.6530728936195374\n",
      "киносериать 0.6522281169891357\n",
      "киносерия 0.6472541093826294\n",
      "киноэпопея 0.6422025561332703\n",
      "уродцы 0.6406134963035583\n",
      "\n",
      "\n",
      "культура_NOUN\n",
      "колочинский 0.5734575986862183\n",
      "вельбарский 0.5538117289543152\n",
      "цивилизация 0.5506580471992493\n",
      "унетицкий 0.5494189262390137\n",
      "среднестоговский 0.5472392439842224\n",
      "этнокультура 0.5463293790817261\n",
      "именьковский 0.5324320793151855\n",
      "искусство 0.5321265459060669\n",
      "синташтинский 0.532010555267334\n",
      "родановский 0.5316259860992432\n",
      "пьяноборский 0.527998685836792\n",
      "халафский 0.5119454264640808\n",
      "яншао 0.5118728280067444\n",
      "чавинский 0.5092390775680542\n",
      "быт 0.5084834098815918\n",
      "винча 0.5083343386650085\n",
      "\n",
      "\n",
      "автор_NOUN\n",
      "соавтор 0.6513904929161072\n",
      "авторство 0.6014461517333984\n",
      "написавший 0.5927645564079285\n",
      "составитель 0.5900745987892151\n",
      "антологиий 0.5790740251541138\n",
      "создатель 0.5756970047950745\n",
      "текстолог 0.5663034319877625\n",
      "публикатор 0.5621129274368286\n",
      "сочинитель 0.5541574954986572\n",
      "компиляциий 0.5495429039001465\n",
      "сюнеци 0.5454846620559692\n",
      "\n",
      "\n",
      "театр_NOUN\n",
      "тюз 0.6943404078483582\n",
      "драмтеатр 0.689990222454071\n",
      "музкомедия 0.6875542402267456\n",
      "труппа 0.6758022308349609\n",
      "спектакль 0.6649372577667236\n",
      "мадт 0.657642126083374\n",
      "филармония 0.6411355137825012\n",
      "госет 0.6404296159744263\n",
      "мамт 0.6302255392074585\n",
      "бунрака 0.6279110312461853\n",
      "гостим 0.6253646016120911\n",
      "гатоб 0.6244799494743347\n",
      "комеди 0.6212968826293945\n",
      "габима 0.6185040473937988\n",
      "\n",
      "\n"
     ]
    }
   ],
   "source": [
    "word2vec_syns = {}\n",
    "for word in test_words_pos:\n",
    "    if word in model:\n",
    "        word2vec_syns[word] = []        \n",
    "        print(word)\n",
    "        for i in model.most_similar(positive=[word], topn=30):\n",
    "            neighbour = i[0]\n",
    "            neighbour = neighbour[0:neighbour.find('_')].lstrip('-*')\n",
    "            #normal_syn = morph.parse(neighbour)[0].normal_form\n",
    "            normal_word = word[0:word.find('_')]\n",
    "            if re.match(r'[а-я]+$',neighbour) and not have_same_root(neighbour,normal_word) and neighbour != normal_word and neighbour  not in word2vec_syns[word]:\n",
    "                word2vec_syns[word].append(neighbour)\n",
    "                print(neighbour, i[1])\n",
    "        print('\\n')\n",
    "    else:\n",
    "        # Увы!\n",
    "        print(word + ' is not present in the model')"
   ]
  },
  {
   "cell_type": "code",
   "execution_count": 69,
   "metadata": {
    "collapsed": true
   },
   "outputs": [],
   "source": [
    "write_in_json('data/word2vec_syns', word2vec_syns)"
   ]
  },
  {
   "cell_type": "markdown",
   "metadata": {},
   "source": [
    "### Облака из синонимов"
   ]
  },
  {
   "cell_type": "code",
   "execution_count": 82,
   "metadata": {},
   "outputs": [],
   "source": [
    "for word in test_words_pos:\n",
    "    if word in model:\n",
    "        syn_dic = {} \n",
    "        for i in model.most_similar(positive=[word], topn=100):\n",
    "            neighbour = i[0]\n",
    "            neighbour = neighbour[0:neighbour.find('_')].lstrip('-*')\n",
    "            normal_syn = morph.parse(neighbour)[0].normal_form\n",
    "            normal_word = word[0:word.find('_')]\n",
    "            if re.match(r'[а-я]+$',normal_syn) and not normal_syn.endswith(\"траница\") and not have_same_root(normal_syn,normal_word) and normal_syn != normal_word and normal_syn not in syn_dic.keys():\n",
    "                syn_dic[normal_syn] = i[1]\n",
    "        definition = Cloud(\"syns_\"+normal_word, syn_dic)\n",
    "        write_in_txt(\"cloud_words/syns_\"+normal_word, definition) "
   ]
  },
  {
   "cell_type": "markdown",
   "metadata": {},
   "source": [
    "### Tf - Idf"
   ]
  },
  {
   "cell_type": "code",
   "execution_count": 40,
   "metadata": {},
   "outputs": [],
   "source": [
    "def compute_tf(text):\n",
    "    tf_text = Counter(text)\n",
    "    for i in tf_text.keys():\n",
    "        tf_text[i] = tf_text[i]/float(len(text))\n",
    "    return tf_text\n",
    "\n",
    "\n",
    "def compute_idf(word, corpus):\n",
    "    n = 0.0\n",
    "    for i in corpus.keys():\n",
    "        if word in corpus[i]:\n",
    "            n += 1.0\n",
    "    return math.log10(len(corpus.keys())/n)\n",
    "\n",
    " \n",
    "\n",
    "def compute_tfidf(corpus):\n",
    "    tf_idf_dic = {}\n",
    "    for word in corpus.keys():\n",
    "        tf_idf_one_text = {}\n",
    "        print(word)\n",
    "        computed_tf = compute_tf(corpus[word]).most_common(5000)\n",
    "        print(\"tf computed!\")\n",
    "        for pair in tqdm(computed_tf):\n",
    "            tf_idf = pair[1] * compute_idf(pair[0], corpus)\n",
    "            if tf_idf > 0:\n",
    "                tf_idf_one_text[pair[0]] = tf_idf\n",
    "        print(\"tf-idf computed!\")\n",
    "        tf_idf_dic[word] = tf_idf_one_text\n",
    "    return tf_idf_dic"
   ]
  },
  {
   "cell_type": "code",
   "execution_count": 41,
   "metadata": {},
   "outputs": [
    {
     "name": "stdout",
     "output_type": "stream",
     "text": [
      "строительство\n",
      "tf computed!\n"
     ]
    },
    {
     "data": {
      "application/vnd.jupyter.widget-view+json": {
       "model_id": "47cd9840505543e18171c18485cca7c0"
      }
     },
     "metadata": {},
     "output_type": "display_data"
    },
    {
     "name": "stdout",
     "output_type": "stream",
     "text": [
      "\n",
      "tf-idf computed!\n",
      "двор\n",
      "tf computed!\n"
     ]
    },
    {
     "data": {
      "application/vnd.jupyter.widget-view+json": {
       "model_id": "102d4024847742528c6332a80c013888"
      }
     },
     "metadata": {},
     "output_type": "display_data"
    },
    {
     "name": "stdout",
     "output_type": "stream",
     "text": [
      "\n",
      "tf-idf computed!\n",
      "завод\n",
      "tf computed!\n"
     ]
    },
    {
     "data": {
      "application/vnd.jupyter.widget-view+json": {
       "model_id": "585fab0bb5094c2d8f5663b24454a819"
      }
     },
     "metadata": {},
     "output_type": "display_data"
    },
    {
     "name": "stdout",
     "output_type": "stream",
     "text": [
      "\n",
      "tf-idf computed!\n",
      "автомобиль\n",
      "tf computed!\n"
     ]
    },
    {
     "data": {
      "application/vnd.jupyter.widget-view+json": {
       "model_id": "aba1b0ed4dbc4074b0fdc82e69df1687"
      }
     },
     "metadata": {},
     "output_type": "display_data"
    },
    {
     "name": "stdout",
     "output_type": "stream",
     "text": [
      "\n",
      "tf-idf computed!\n",
      "самолет\n",
      "tf computed!\n"
     ]
    },
    {
     "data": {
      "application/vnd.jupyter.widget-view+json": {
       "model_id": "7f7b14789fb049c1889d076980ea19a9"
      }
     },
     "metadata": {},
     "output_type": "display_data"
    },
    {
     "name": "stdout",
     "output_type": "stream",
     "text": [
      "\n",
      "tf-idf computed!\n",
      "стена\n",
      "tf computed!\n"
     ]
    },
    {
     "data": {
      "application/vnd.jupyter.widget-view+json": {
       "model_id": "78eeff20a51643b9858c1023f2a9c0ea"
      }
     },
     "metadata": {},
     "output_type": "display_data"
    },
    {
     "name": "stdout",
     "output_type": "stream",
     "text": [
      "\n",
      "tf-idf computed!\n",
      "улица\n",
      "tf computed!\n"
     ]
    },
    {
     "data": {
      "application/vnd.jupyter.widget-view+json": {
       "model_id": "fb1dd6bdd20b40688e131888779bf413"
      }
     },
     "metadata": {},
     "output_type": "display_data"
    },
    {
     "name": "stdout",
     "output_type": "stream",
     "text": [
      "\n",
      "tf-idf computed!\n",
      "дорога\n",
      "tf computed!\n"
     ]
    },
    {
     "data": {
      "application/vnd.jupyter.widget-view+json": {
       "model_id": "eb6dfb8dcec74020812a01a003dfe33d"
      }
     },
     "metadata": {},
     "output_type": "display_data"
    },
    {
     "name": "stdout",
     "output_type": "stream",
     "text": [
      "\n",
      "tf-idf computed!\n",
      "площадь\n",
      "tf computed!\n"
     ]
    },
    {
     "data": {
      "application/vnd.jupyter.widget-view+json": {
       "model_id": "0b6340c3ce1c41949c0226ea3c18642e"
      }
     },
     "metadata": {},
     "output_type": "display_data"
    },
    {
     "name": "stdout",
     "output_type": "stream",
     "text": [
      "\n",
      "tf-idf computed!\n",
      "окно\n",
      "tf computed!\n"
     ]
    },
    {
     "data": {
      "application/vnd.jupyter.widget-view+json": {
       "model_id": "19ac658c146f457aae7c18ac4448735f"
      }
     },
     "metadata": {},
     "output_type": "display_data"
    },
    {
     "name": "stdout",
     "output_type": "stream",
     "text": [
      "\n",
      "tf-idf computed!\n",
      "квартира\n",
      "tf computed!\n"
     ]
    },
    {
     "data": {
      "application/vnd.jupyter.widget-view+json": {
       "model_id": "554512a736bf4ea5bc10c075345e651d"
      }
     },
     "metadata": {},
     "output_type": "display_data"
    },
    {
     "name": "stdout",
     "output_type": "stream",
     "text": [
      "\n",
      "tf-idf computed!\n",
      "ученый\n",
      "tf computed!\n"
     ]
    },
    {
     "data": {
      "application/vnd.jupyter.widget-view+json": {
       "model_id": "38b66f9974c046f5a050cdba84b53cba"
      }
     },
     "metadata": {},
     "output_type": "display_data"
    },
    {
     "name": "stdout",
     "output_type": "stream",
     "text": [
      "\n",
      "tf-idf computed!\n",
      "специалист\n",
      "tf computed!\n"
     ]
    },
    {
     "data": {
      "application/vnd.jupyter.widget-view+json": {
       "model_id": "94a455a73bf04a31bff2da970cd3c5c6"
      }
     },
     "metadata": {},
     "output_type": "display_data"
    },
    {
     "name": "stdout",
     "output_type": "stream",
     "text": [
      "\n",
      "tf-idf computed!\n",
      "исследование\n",
      "tf computed!\n"
     ]
    },
    {
     "data": {
      "application/vnd.jupyter.widget-view+json": {
       "model_id": "8dc019e2ec9e4c668a7b700353296e0e"
      }
     },
     "metadata": {},
     "output_type": "display_data"
    },
    {
     "name": "stdout",
     "output_type": "stream",
     "text": [
      "\n",
      "tf-idf computed!\n",
      "институт\n",
      "tf computed!\n"
     ]
    },
    {
     "data": {
      "application/vnd.jupyter.widget-view+json": {
       "model_id": "738df64b87854da483fca2d92cd5c9b2"
      }
     },
     "metadata": {},
     "output_type": "display_data"
    },
    {
     "name": "stdout",
     "output_type": "stream",
     "text": [
      "\n",
      "tf-idf computed!\n",
      "наука\n",
      "tf computed!\n"
     ]
    },
    {
     "data": {
      "application/vnd.jupyter.widget-view+json": {
       "model_id": "30e5efd7651a451884f8b2af51af8692"
      }
     },
     "metadata": {},
     "output_type": "display_data"
    },
    {
     "name": "stdout",
     "output_type": "stream",
     "text": [
      "\n",
      "tf-idf computed!\n",
      "школа\n",
      "tf computed!\n"
     ]
    },
    {
     "data": {
      "application/vnd.jupyter.widget-view+json": {
       "model_id": "8dbead8bc19c42f0a7ff1a58461559f0"
      }
     },
     "metadata": {},
     "output_type": "display_data"
    },
    {
     "name": "stdout",
     "output_type": "stream",
     "text": [
      "\n",
      "tf-idf computed!\n",
      "знание\n",
      "tf computed!\n"
     ]
    },
    {
     "data": {
      "application/vnd.jupyter.widget-view+json": {
       "model_id": "324dbc401fee4217be2bfb3f32d79754"
      }
     },
     "metadata": {},
     "output_type": "display_data"
    },
    {
     "name": "stdout",
     "output_type": "stream",
     "text": [
      "\n",
      "tf-idf computed!\n",
      "технология\n",
      "tf computed!\n"
     ]
    },
    {
     "data": {
      "application/vnd.jupyter.widget-view+json": {
       "model_id": "b6586a7c9fa543ec98156ed9408f37c6"
      }
     },
     "metadata": {},
     "output_type": "display_data"
    },
    {
     "name": "stdout",
     "output_type": "stream",
     "text": [
      "\n",
      "tf-idf computed!\n",
      "факт\n",
      "tf computed!\n"
     ]
    },
    {
     "data": {
      "application/vnd.jupyter.widget-view+json": {
       "model_id": "cb5f8a6df96c404bb7b4af0b76f91fa8"
      }
     },
     "metadata": {},
     "output_type": "display_data"
    },
    {
     "name": "stdout",
     "output_type": "stream",
     "text": [
      "\n",
      "tf-idf computed!\n",
      "фирма\n",
      "tf computed!\n"
     ]
    },
    {
     "data": {
      "application/vnd.jupyter.widget-view+json": {
       "model_id": "a10955696d7a43a1ad7dbb00fc3098ba"
      }
     },
     "metadata": {},
     "output_type": "display_data"
    },
    {
     "name": "stdout",
     "output_type": "stream",
     "text": [
      "\n",
      "tf-idf computed!\n",
      "руководитель\n",
      "tf computed!\n"
     ]
    },
    {
     "data": {
      "application/vnd.jupyter.widget-view+json": {
       "model_id": "58376e437cab4f0c81b7f7cc32059695"
      }
     },
     "metadata": {},
     "output_type": "display_data"
    },
    {
     "name": "stdout",
     "output_type": "stream",
     "text": [
      "\n",
      "tf-idf computed!\n",
      "начальник\n",
      "tf computed!\n"
     ]
    },
    {
     "data": {
      "application/vnd.jupyter.widget-view+json": {
       "model_id": "704160c8906946eda554fabbee8fea2d"
      }
     },
     "metadata": {},
     "output_type": "display_data"
    },
    {
     "name": "stdout",
     "output_type": "stream",
     "text": [
      "\n",
      "tf-idf computed!\n",
      "договор\n",
      "tf computed!\n"
     ]
    },
    {
     "data": {
      "application/vnd.jupyter.widget-view+json": {
       "model_id": "5aef0c4bdaa146829b604a6ce4e206be"
      }
     },
     "metadata": {},
     "output_type": "display_data"
    },
    {
     "name": "stdout",
     "output_type": "stream",
     "text": [
      "\n",
      "tf-idf computed!\n",
      "директор\n",
      "tf computed!\n"
     ]
    },
    {
     "data": {
      "application/vnd.jupyter.widget-view+json": {
       "model_id": "78e607b2b90a454c927a68a10dbd13e2"
      }
     },
     "metadata": {},
     "output_type": "display_data"
    },
    {
     "name": "stdout",
     "output_type": "stream",
     "text": [
      "\n",
      "tf-idf computed!\n",
      "рабочий\n",
      "tf computed!\n"
     ]
    },
    {
     "data": {
      "application/vnd.jupyter.widget-view+json": {
       "model_id": "442be40de7cc490f9bfdcd9de3b65da9"
      }
     },
     "metadata": {},
     "output_type": "display_data"
    },
    {
     "name": "stdout",
     "output_type": "stream",
     "text": [
      "\n",
      "tf-idf computed!\n",
      "экономика\n",
      "tf computed!\n"
     ]
    },
    {
     "data": {
      "application/vnd.jupyter.widget-view+json": {
       "model_id": "139cfcd429c144c1a59aabd2b6ca6cc2"
      }
     },
     "metadata": {},
     "output_type": "display_data"
    },
    {
     "name": "stdout",
     "output_type": "stream",
     "text": [
      "\n",
      "tf-idf computed!\n",
      "министр\n",
      "tf computed!\n"
     ]
    },
    {
     "data": {
      "application/vnd.jupyter.widget-view+json": {
       "model_id": "9a5a2e25c6c6471e9c128c3e229f33b6"
      }
     },
     "metadata": {},
     "output_type": "display_data"
    },
    {
     "name": "stdout",
     "output_type": "stream",
     "text": [
      "\n",
      "tf-idf computed!\n",
      "регион\n",
      "tf computed!\n"
     ]
    },
    {
     "data": {
      "application/vnd.jupyter.widget-view+json": {
       "model_id": "53b2ca0eb38c4faf98aa4464e8f43c98"
      }
     },
     "metadata": {},
     "output_type": "display_data"
    },
    {
     "name": "stdout",
     "output_type": "stream",
     "text": [
      "\n",
      "tf-idf computed!\n",
      "гражданин\n",
      "tf computed!\n"
     ]
    },
    {
     "data": {
      "application/vnd.jupyter.widget-view+json": {
       "model_id": "bdae0c92f4ef4d2fa0ceea8a57a8bc6f"
      }
     },
     "metadata": {},
     "output_type": "display_data"
    },
    {
     "name": "stdout",
     "output_type": "stream",
     "text": [
      "\n",
      "tf-idf computed!\n",
      "политика\n",
      "tf computed!\n"
     ]
    },
    {
     "data": {
      "application/vnd.jupyter.widget-view+json": {
       "model_id": "352aa5aaa60f414997b7b76eecc90434"
      }
     },
     "metadata": {},
     "output_type": "display_data"
    },
    {
     "name": "stdout",
     "output_type": "stream",
     "text": [
      "\n",
      "tf-idf computed!\n",
      "служба\n",
      "tf computed!\n"
     ]
    },
    {
     "data": {
      "application/vnd.jupyter.widget-view+json": {
       "model_id": "0b5a98f650554ea2a17c35a5272cebc1"
      }
     },
     "metadata": {},
     "output_type": "display_data"
    },
    {
     "name": "stdout",
     "output_type": "stream",
     "text": [
      "\n",
      "tf-idf computed!\n",
      "партия\n",
      "tf computed!\n"
     ]
    },
    {
     "data": {
      "application/vnd.jupyter.widget-view+json": {
       "model_id": "62ab3f9bc4ff4995b81e4c451ac7582e"
      }
     },
     "metadata": {},
     "output_type": "display_data"
    },
    {
     "name": "stdout",
     "output_type": "stream",
     "text": [
      "\n",
      "tf-idf computed!\n",
      "федерация\n",
      "tf computed!\n"
     ]
    },
    {
     "data": {
      "application/vnd.jupyter.widget-view+json": {
       "model_id": "4ca8f733200f4101b67409a7e06e912e"
      }
     },
     "metadata": {},
     "output_type": "display_data"
    },
    {
     "name": "stdout",
     "output_type": "stream",
     "text": [
      "\n",
      "tf-idf computed!\n",
      "общественный\n",
      "tf computed!\n"
     ]
    },
    {
     "data": {
      "application/vnd.jupyter.widget-view+json": {
       "model_id": "58e8ec0841ba43bca46761e2768fa201"
      }
     },
     "metadata": {},
     "output_type": "display_data"
    },
    {
     "name": "stdout",
     "output_type": "stream",
     "text": [
      "\n",
      "tf-idf computed!\n",
      "национальный\n",
      "tf computed!\n"
     ]
    },
    {
     "data": {
      "application/vnd.jupyter.widget-view+json": {
       "model_id": "2055463eac684811b80ba35c3670b3fb"
      }
     },
     "metadata": {},
     "output_type": "display_data"
    },
    {
     "name": "stdout",
     "output_type": "stream",
     "text": [
      "\n",
      "tf-idf computed!\n",
      "мировой\n",
      "tf computed!\n"
     ]
    },
    {
     "data": {
      "application/vnd.jupyter.widget-view+json": {
       "model_id": "4e0d79ae7f5c4d9b8161309795dd5e0a"
      }
     },
     "metadata": {},
     "output_type": "display_data"
    },
    {
     "name": "stdout",
     "output_type": "stream",
     "text": [
      "\n",
      "tf-idf computed!\n",
      "экономический\n",
      "tf computed!\n"
     ]
    },
    {
     "data": {
      "application/vnd.jupyter.widget-view+json": {
       "model_id": "64238a74d4eb48b4b1b2bad1b92fdd6b"
      }
     },
     "metadata": {},
     "output_type": "display_data"
    },
    {
     "name": "stdout",
     "output_type": "stream",
     "text": [
      "\n",
      "tf-idf computed!\n",
      "социальный\n",
      "tf computed!\n"
     ]
    },
    {
     "data": {
      "application/vnd.jupyter.widget-view+json": {
       "model_id": "2c456842eca1439dba345f41f361ef29"
      }
     },
     "metadata": {},
     "output_type": "display_data"
    },
    {
     "name": "stdout",
     "output_type": "stream",
     "text": [
      "\n",
      "tf-idf computed!\n",
      "федеральный\n",
      "tf computed!\n"
     ]
    },
    {
     "data": {
      "application/vnd.jupyter.widget-view+json": {
       "model_id": "b923a6454eae4272953f55d42d01b234"
      }
     },
     "metadata": {},
     "output_type": "display_data"
    },
    {
     "name": "stdout",
     "output_type": "stream",
     "text": [
      "\n",
      "tf-idf computed!\n",
      "музыка\n",
      "tf computed!\n"
     ]
    },
    {
     "data": {
      "application/vnd.jupyter.widget-view+json": {
       "model_id": "90eb78df842b4b76a14098a6f698fa1b"
      }
     },
     "metadata": {},
     "output_type": "display_data"
    },
    {
     "name": "stdout",
     "output_type": "stream",
     "text": [
      "\n",
      "tf-idf computed!\n",
      "писатель\n",
      "tf computed!\n"
     ]
    },
    {
     "data": {
      "application/vnd.jupyter.widget-view+json": {
       "model_id": "b457c8e64a60431e93caa9985c63e5db"
      }
     },
     "metadata": {},
     "output_type": "display_data"
    },
    {
     "name": "stdout",
     "output_type": "stream",
     "text": [
      "\n",
      "tf-idf computed!\n",
      "сцена\n",
      "tf computed!\n"
     ]
    },
    {
     "data": {
      "application/vnd.jupyter.widget-view+json": {
       "model_id": "3ed065278aa34fd69c3bcf971d1a34a4"
      }
     },
     "metadata": {},
     "output_type": "display_data"
    },
    {
     "name": "stdout",
     "output_type": "stream",
     "text": [
      "\n",
      "tf-idf computed!\n",
      "спектакль\n",
      "tf computed!\n"
     ]
    },
    {
     "data": {
      "application/vnd.jupyter.widget-view+json": {
       "model_id": "2c51d9053a6d4d40be1f06bb71335e65"
      }
     },
     "metadata": {},
     "output_type": "display_data"
    },
    {
     "name": "stdout",
     "output_type": "stream",
     "text": [
      "\n",
      "tf-idf computed!\n",
      "картина\n",
      "tf computed!\n"
     ]
    },
    {
     "data": {
      "application/vnd.jupyter.widget-view+json": {
       "model_id": "6122f35d3b014ec9b2517077ea9c85ad"
      }
     },
     "metadata": {},
     "output_type": "display_data"
    },
    {
     "name": "stdout",
     "output_type": "stream",
     "text": [
      "\n",
      "tf-idf computed!\n",
      "искусство\n",
      "tf computed!\n"
     ]
    },
    {
     "data": {
      "application/vnd.jupyter.widget-view+json": {
       "model_id": "a8709d1b54b24d02a9c39f6f32de703c"
      }
     },
     "metadata": {},
     "output_type": "display_data"
    },
    {
     "name": "stdout",
     "output_type": "stream",
     "text": [
      "\n",
      "tf-idf computed!\n",
      "фильм\n",
      "tf computed!\n"
     ]
    },
    {
     "data": {
      "application/vnd.jupyter.widget-view+json": {
       "model_id": "5554a99fa4bf48afb17655ad28a0f806"
      }
     },
     "metadata": {},
     "output_type": "display_data"
    },
    {
     "name": "stdout",
     "output_type": "stream",
     "text": [
      "\n",
      "tf-idf computed!\n",
      "культура\n",
      "tf computed!\n"
     ]
    },
    {
     "data": {
      "application/vnd.jupyter.widget-view+json": {
       "model_id": "fb197d5cce434be4baf6edfdfc97110d"
      }
     },
     "metadata": {},
     "output_type": "display_data"
    },
    {
     "name": "stdout",
     "output_type": "stream",
     "text": [
      "\n",
      "tf-idf computed!\n",
      "автор\n",
      "tf computed!\n"
     ]
    },
    {
     "data": {
      "application/vnd.jupyter.widget-view+json": {
       "model_id": "786e51b332064002b33f4cadc379cfc0"
      }
     },
     "metadata": {},
     "output_type": "display_data"
    },
    {
     "name": "stdout",
     "output_type": "stream",
     "text": [
      "\n",
      "tf-idf computed!\n",
      "театр\n",
      "tf computed!\n"
     ]
    },
    {
     "data": {
      "application/vnd.jupyter.widget-view+json": {
       "model_id": "ddcde2140c0c4e6fac49b99915fd1b06"
      }
     },
     "metadata": {},
     "output_type": "display_data"
    },
    {
     "name": "stdout",
     "output_type": "stream",
     "text": [
      "\n",
      "tf-idf computed!\n"
     ]
    }
   ],
   "source": [
    "tf_idf = compute_tfidf(contexts)\n",
    "write_in_json('data/tf_idf', tf_idf)"
   ]
  },
  {
   "cell_type": "code",
   "execution_count": 43,
   "metadata": {
    "collapsed": true
   },
   "outputs": [],
   "source": [
    "sorted_tf_idf = {}\n",
    "for word in tf_idf.keys():    \n",
    "    one_sorted_tf_idf = sorted(tf_idf[word].items(), key=operator.itemgetter(1), reverse = True)\n",
    "    sorted_tf_idf[word] = dict(one_sorted_tf_idf[0:100])\n",
    "write_in_json('data/sorted_tf_idf', sorted_tf_idf)"
   ]
  },
  {
   "cell_type": "markdown",
   "metadata": {},
   "source": [
    "#### Облака по tf-idf частотам"
   ]
  },
  {
   "cell_type": "code",
   "execution_count": 23,
   "metadata": {},
   "outputs": [],
   "source": [
    "sorted_tf_idf = read_from_json('data/sorted_tf_idf')\n",
    "for word in sorted_tf_idf.keys():    \n",
    "    definition_tf_idf = Cloud(\"tf-idf/tf_idf_\"+word, sorted_tf_idf[word])\n",
    "    write_in_txt(\"cloud_words/tf-idf/tf_idf_\"+word, definition_tf_idf)"
   ]
  },
  {
   "cell_type": "code",
   "execution_count": null,
   "metadata": {
    "collapsed": true
   },
   "outputs": [],
   "source": []
  }
 ],
 "metadata": {
  "kernelspec": {
   "display_name": "Python 3",
   "language": "python",
   "name": "python3"
  },
  "language_info": {
   "codemirror_mode": {
    "name": "ipython",
    "version": 3
   },
   "file_extension": ".py",
   "mimetype": "text/x-python",
   "name": "python",
   "nbconvert_exporter": "python",
   "pygments_lexer": "ipython3",
   "version": "3.6.1"
  },
  "widgets": {
   "application/vnd.jupyter.widget-state+json": {
    "state": {
     "03cc23e39e57427bb4b3496f67185c8b": {
      "model_module": "jupyter-js-widgets",
      "model_module_version": "~2.1.4",
      "model_name": "LayoutModel",
      "state": {
       "_model_module_version": "~2.1.4",
       "_view_module_version": "~2.1.4"
      }
     },
     "0485221e9da447a7bbc38c693e6e34bc": {
      "model_module": "jupyter-js-widgets",
      "model_module_version": "~2.1.4",
      "model_name": "ProgressStyleModel",
      "state": {
       "_model_module_version": "~2.1.4",
       "_view_module_version": "~2.1.4"
      }
     },
     "0b7d049388684ea1a595f95a6f39f8b8": {
      "model_module": "jupyter-js-widgets",
      "model_module_version": "~2.1.4",
      "model_name": "ProgressStyleModel",
      "state": {
       "_model_module_version": "~2.1.4",
       "_view_module_version": "~2.1.4"
      }
     },
     "134f619915a147e2ad8c00fafcbb8099": {
      "model_module": "jupyter-js-widgets",
      "model_module_version": "~2.1.4",
      "model_name": "HTMLModel",
      "state": {
       "_model_module_version": "~2.1.4",
       "_view_module_version": "~2.1.4",
       "layout": "IPY_MODEL_5361a5b317ce49e5b80693106d91f195",
       "value": "100% 6323/6323 [02:33&lt;00:00, 41.32it/s]"
      }
     },
     "1f4bb225f65c4794bb446692a69d5e88": {
      "model_module": "jupyter-js-widgets",
      "model_module_version": "~2.1.4",
      "model_name": "LayoutModel",
      "state": {
       "_model_module_version": "~2.1.4",
       "_view_module_version": "~2.1.4"
      }
     },
     "224c157e624942598dfb11a5a1a02a22": {
      "model_module": "jupyter-js-widgets",
      "model_module_version": "~2.1.4",
      "model_name": "LayoutModel",
      "state": {
       "_model_module_version": "~2.1.4",
       "_view_module_version": "~2.1.4"
      }
     },
     "24bf9c8fcbe34bd291a929fcbc19e068": {
      "model_module": "jupyter-js-widgets",
      "model_module_version": "~2.1.4",
      "model_name": "HBoxModel",
      "state": {
       "_model_module_version": "~2.1.4",
       "_view_module_version": "~2.1.4",
       "children": [
        "IPY_MODEL_c6108db0f1ac4cd59eb94bfe9dabb5bb",
        "IPY_MODEL_6be5352d4e514ded8439f1c31920b241"
       ],
       "layout": "IPY_MODEL_6246bc9628ad4dbf8c3e91b4b15d60d9"
      }
     },
     "3905725882484312bea79aa65cb7cd4b": {
      "model_module": "jupyter-js-widgets",
      "model_module_version": "~2.1.4",
      "model_name": "LayoutModel",
      "state": {
       "_model_module_version": "~2.1.4",
       "_view_module_version": "~2.1.4"
      }
     },
     "3f6601c0591e4d49aabcc87c7cd2c8cf": {
      "model_module": "jupyter-js-widgets",
      "model_module_version": "~2.1.4",
      "model_name": "ProgressModel",
      "state": {
       "_model_module_version": "~2.1.4",
       "_view_module_version": "~2.1.4",
       "bar_style": "success",
       "layout": "IPY_MODEL_3905725882484312bea79aa65cb7cd4b",
       "max": 6323,
       "style": "IPY_MODEL_efb202e688d546d78c12ef380e8fc287",
       "value": 6323
      }
     },
     "42ee645be17440e38a55c0bada3f969f": {
      "model_module": "jupyter-js-widgets",
      "model_module_version": "~2.1.4",
      "model_name": "ProgressModel",
      "state": {
       "_model_module_version": "~2.1.4",
       "_view_module_version": "~2.1.4",
       "bar_style": "success",
       "layout": "IPY_MODEL_03cc23e39e57427bb4b3496f67185c8b",
       "max": 1,
       "style": "IPY_MODEL_fc291326af8d4db3b20473661a508468",
       "value": 1
      }
     },
     "5361a5b317ce49e5b80693106d91f195": {
      "model_module": "jupyter-js-widgets",
      "model_module_version": "~2.1.4",
      "model_name": "LayoutModel",
      "state": {
       "_model_module_version": "~2.1.4",
       "_view_module_version": "~2.1.4"
      }
     },
     "5f0ef9a62fdb45be92a9cc6c92a5b73a": {
      "model_module": "jupyter-js-widgets",
      "model_module_version": "~2.1.4",
      "model_name": "LayoutModel",
      "state": {
       "_model_module_version": "~2.1.4",
       "_view_module_version": "~2.1.4"
      }
     },
     "6246bc9628ad4dbf8c3e91b4b15d60d9": {
      "model_module": "jupyter-js-widgets",
      "model_module_version": "~2.1.4",
      "model_name": "LayoutModel",
      "state": {
       "_model_module_version": "~2.1.4",
       "_view_module_version": "~2.1.4"
      }
     },
     "6be5352d4e514ded8439f1c31920b241": {
      "model_module": "jupyter-js-widgets",
      "model_module_version": "~2.1.4",
      "model_name": "HTMLModel",
      "state": {
       "_model_module_version": "~2.1.4",
       "_view_module_version": "~2.1.4",
       "layout": "IPY_MODEL_5f0ef9a62fdb45be92a9cc6c92a5b73a",
       "value": "100% 31358/31358 [12:41&lt;00:00, 41.20it/s]"
      }
     },
     "751cd375608d49eeb834b49e1b1dcb94": {
      "model_module": "jupyter-js-widgets",
      "model_module_version": "~2.1.4",
      "model_name": "HTMLModel",
      "state": {
       "_model_module_version": "~2.1.4",
       "_view_module_version": "~2.1.4",
       "layout": "IPY_MODEL_9297d95fbc67432f8d04e0d36d4b8268",
       "value": "100% 857/857 [00:34&lt;00:00, 24.82it/s]"
      }
     },
     "7ad8e9440ed7491a80bdfac0ff18a91e": {
      "model_module": "jupyter-js-widgets",
      "model_module_version": "~2.1.4",
      "model_name": "HTMLModel",
      "state": {
       "_model_module_version": "~2.1.4",
       "_view_module_version": "~2.1.4",
       "layout": "IPY_MODEL_c622704fcae84ae3a6d6b3697a054762",
       "value": "0it [00:00, ?it/s]"
      }
     },
     "88e590b22ebf489eb8018e0f0aecac57": {
      "model_module": "jupyter-js-widgets",
      "model_module_version": "~2.1.4",
      "model_name": "HBoxModel",
      "state": {
       "_model_module_version": "~2.1.4",
       "_view_module_version": "~2.1.4",
       "children": [
        "IPY_MODEL_e5e8373e9bc149bd97d05fb15d774b96",
        "IPY_MODEL_751cd375608d49eeb834b49e1b1dcb94"
       ],
       "layout": "IPY_MODEL_1f4bb225f65c4794bb446692a69d5e88"
      }
     },
     "8d15aa2cf89c4f92b654342ab0d2c5ea": {
      "model_module": "jupyter-js-widgets",
      "model_module_version": "~2.1.4",
      "model_name": "HBoxModel",
      "state": {
       "_model_module_version": "~2.1.4",
       "_view_module_version": "~2.1.4",
       "children": [
        "IPY_MODEL_42ee645be17440e38a55c0bada3f969f",
        "IPY_MODEL_7ad8e9440ed7491a80bdfac0ff18a91e"
       ],
       "layout": "IPY_MODEL_e655f2418d5447ab95d7c750e0f7c3b2"
      }
     },
     "9297d95fbc67432f8d04e0d36d4b8268": {
      "model_module": "jupyter-js-widgets",
      "model_module_version": "~2.1.4",
      "model_name": "LayoutModel",
      "state": {
       "_model_module_version": "~2.1.4",
       "_view_module_version": "~2.1.4"
      }
     },
     "bee57b5e74f44bc1955a72f08032370d": {
      "model_module": "jupyter-js-widgets",
      "model_module_version": "~2.1.4",
      "model_name": "LayoutModel",
      "state": {
       "_model_module_version": "~2.1.4",
       "_view_module_version": "~2.1.4"
      }
     },
     "c6108db0f1ac4cd59eb94bfe9dabb5bb": {
      "model_module": "jupyter-js-widgets",
      "model_module_version": "~2.1.4",
      "model_name": "ProgressModel",
      "state": {
       "_model_module_version": "~2.1.4",
       "_view_module_version": "~2.1.4",
       "bar_style": "success",
       "layout": "IPY_MODEL_bee57b5e74f44bc1955a72f08032370d",
       "max": 31358,
       "style": "IPY_MODEL_0485221e9da447a7bbc38c693e6e34bc",
       "value": 31358
      }
     },
     "c622704fcae84ae3a6d6b3697a054762": {
      "model_module": "jupyter-js-widgets",
      "model_module_version": "~2.1.4",
      "model_name": "LayoutModel",
      "state": {
       "_model_module_version": "~2.1.4",
       "_view_module_version": "~2.1.4"
      }
     },
     "cd27e57a220a4842aafb6a04a0b7b56b": {
      "model_module": "jupyter-js-widgets",
      "model_module_version": "~2.1.4",
      "model_name": "HBoxModel",
      "state": {
       "_model_module_version": "~2.1.4",
       "_view_module_version": "~2.1.4",
       "children": [
        "IPY_MODEL_3f6601c0591e4d49aabcc87c7cd2c8cf",
        "IPY_MODEL_134f619915a147e2ad8c00fafcbb8099"
       ],
       "layout": "IPY_MODEL_224c157e624942598dfb11a5a1a02a22"
      }
     },
     "d5816ce48cc2470e99ef2afbb6b0854c": {
      "model_module": "jupyter-js-widgets",
      "model_module_version": "~2.1.4",
      "model_name": "LayoutModel",
      "state": {
       "_model_module_version": "~2.1.4",
       "_view_module_version": "~2.1.4"
      }
     },
     "e5e8373e9bc149bd97d05fb15d774b96": {
      "model_module": "jupyter-js-widgets",
      "model_module_version": "~2.1.4",
      "model_name": "ProgressModel",
      "state": {
       "_model_module_version": "~2.1.4",
       "_view_module_version": "~2.1.4",
       "bar_style": "success",
       "layout": "IPY_MODEL_d5816ce48cc2470e99ef2afbb6b0854c",
       "max": 857,
       "style": "IPY_MODEL_0b7d049388684ea1a595f95a6f39f8b8",
       "value": 857
      }
     },
     "e655f2418d5447ab95d7c750e0f7c3b2": {
      "model_module": "jupyter-js-widgets",
      "model_module_version": "~2.1.4",
      "model_name": "LayoutModel",
      "state": {
       "_model_module_version": "~2.1.4",
       "_view_module_version": "~2.1.4"
      }
     },
     "efb202e688d546d78c12ef380e8fc287": {
      "model_module": "jupyter-js-widgets",
      "model_module_version": "~2.1.4",
      "model_name": "ProgressStyleModel",
      "state": {
       "_model_module_version": "~2.1.4",
       "_view_module_version": "~2.1.4"
      }
     },
     "fc291326af8d4db3b20473661a508468": {
      "model_module": "jupyter-js-widgets",
      "model_module_version": "~2.1.4",
      "model_name": "ProgressStyleModel",
      "state": {
       "_model_module_version": "~2.1.4",
       "_view_module_version": "~2.1.4"
      }
     }
    },
    "version_major": 1,
    "version_minor": 0
   }
  }
 },
 "nbformat": 4,
 "nbformat_minor": 2
}
